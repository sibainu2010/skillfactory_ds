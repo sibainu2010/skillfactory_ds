{
  "cells": [
    {
      "cell_type": "markdown",
      "id": "42289889-bd57-434e-9637-d3e354756316",
      "metadata": {
        "id": "42289889-bd57-434e-9637-d3e354756316"
      },
      "source": [
        "<center> <img src = https://raw.githubusercontent.com/AndreyRysistov/DatasetsForPandas/main/hh%20label.jpg alt=\"drawing\" style=\"width:400px;\">"
      ]
    },
    {
      "cell_type": "markdown",
      "id": "829cb75b-f14e-4ba8-9195-7ba929a7d656",
      "metadata": {
        "id": "829cb75b-f14e-4ba8-9195-7ba929a7d656",
        "tags": []
      },
      "source": [
        "# <center> Проект: Анализ вакансий из HeadHunter\n",
        "   "
      ]
    },
    {
      "cell_type": "code",
      "execution_count": 1,
      "id": "dccfde33-2452-43fb-a8a5-5c6ebc02a71d",
      "metadata": {
        "id": "dccfde33-2452-43fb-a8a5-5c6ebc02a71d"
      },
      "outputs": [],
      "source": [
        "# импортируем библиотеки\n",
        "import pandas as pd\n",
        "import psycopg2\n",
        "import plotly.express as px"
      ]
    },
    {
      "cell_type": "code",
      "execution_count": 3,
      "id": "oVKH4ehvf8Ay",
      "metadata": {
        "id": "oVKH4ehvf8Ay"
      },
      "outputs": [],
      "source": [
        "# вставьте сюда параметры подключения из юнита 1. Работа с базой данных из Python \n",
        "DBNAME = 'project_sql'\n",
        "USER = 'skillfactory'\n",
        "PASSWORD = 'cCkxxLVrDE8EbvjueeMedPKt'\n",
        "HOST = '84.201.134.129'\n",
        "PORT = 5432"
      ]
    },
    {
      "cell_type": "code",
      "execution_count": 2,
      "id": "G4X_q8KBf7SF",
      "metadata": {
        "id": "G4X_q8KBf7SF"
      },
      "outputs": [],
      "source": [
        "# подключаемся к базе\n",
        "connection = psycopg2.connect(\n",
        "    dbname='project_sql',\n",
        "    user='skillfactory',\n",
        "    host='84.201.134.129',\n",
        "    password='cCkxxLVrDE8EbvjueeMedPKt',\n",
        "    port=5432\n",
        ")"
      ]
    },
    {
      "cell_type": "markdown",
      "id": "0dc6476b-7a00-44f1-ac93-6e3baed33a29",
      "metadata": {
        "id": "0dc6476b-7a00-44f1-ac93-6e3baed33a29"
      },
      "source": [
        "# Юнит 3. Предварительный анализ данных"
      ]
    },
    {
      "cell_type": "markdown",
      "id": "889782b6-8d1c-410e-8920-e57f27917c64",
      "metadata": {
        "id": "889782b6-8d1c-410e-8920-e57f27917c64"
      },
      "source": [
        "1. Напишите запрос, который посчитает количество вакансий в нашей базе (вакансии находятся в таблице vacancies). "
      ]
    },
    {
      "cell_type": "code",
      "execution_count": 3,
      "id": "bc39e68e-ed02-4ee2-9235-7258a2f867a8",
      "metadata": {
        "id": "bc39e68e-ed02-4ee2-9235-7258a2f867a8"
      },
      "outputs": [],
      "source": [
        "# текст запроса\n",
        "query_1 = f'''\n",
        "            select count(v.*)\n",
        "            from vacancies v\n",
        "            '''"
      ]
    },
    {
      "cell_type": "code",
      "execution_count": 4,
      "id": "7mAwtsk4hEHY",
      "metadata": {
        "id": "7mAwtsk4hEHY"
      },
      "outputs": [
        {
          "name": "stderr",
          "output_type": "stream",
          "text": [
            "C:\\Users\\79654\\AppData\\Local\\Temp\\ipykernel_21948\\2142269139.py:2: UserWarning: pandas only supports SQLAlchemy connectable (engine/connection) or database string URI or sqlite3 DBAPI2 connection. Other DBAPI2 objects are not tested. Please consider using SQLAlchemy.\n",
            "  result_1 = pd.read_sql_query(query_1, connection)\n"
          ]
        },
        {
          "data": {
            "text/html": [
              "<div>\n",
              "<style scoped>\n",
              "    .dataframe tbody tr th:only-of-type {\n",
              "        vertical-align: middle;\n",
              "    }\n",
              "\n",
              "    .dataframe tbody tr th {\n",
              "        vertical-align: top;\n",
              "    }\n",
              "\n",
              "    .dataframe thead th {\n",
              "        text-align: right;\n",
              "    }\n",
              "</style>\n",
              "<table border=\"1\" class=\"dataframe\">\n",
              "  <thead>\n",
              "    <tr style=\"text-align: right;\">\n",
              "      <th></th>\n",
              "      <th>count</th>\n",
              "    </tr>\n",
              "  </thead>\n",
              "  <tbody>\n",
              "    <tr>\n",
              "      <th>0</th>\n",
              "      <td>49197</td>\n",
              "    </tr>\n",
              "  </tbody>\n",
              "</table>\n",
              "</div>"
            ],
            "text/plain": [
              "   count\n",
              "0  49197"
            ]
          },
          "metadata": {},
          "output_type": "display_data"
        }
      ],
      "source": [
        "# результат запроса\n",
        "result_1 = pd.read_sql_query(query_1, connection)\n",
        "display(result_1)"
      ]
    },
    {
      "cell_type": "markdown",
      "id": "5f7dcb49",
      "metadata": {},
      "source": [
        "#### В нашей таблице о вакансиях в области IT находится около 50 000 вакансий. Если предположить, что в таблице содержатся данные о 1300 регионах, то на каждый регион приходится примерно 38 вакансий.\n",
        "#### Откуда у нас столько вакансий, и много ли это? Эта компания работает с 119 странами мира и является третьей самой популярной рекрутинговой компанией в мире. Из этого я могу предположить, что в нашей таблице достаточно много IT-вакансий."
      ]
    },
    {
      "cell_type": "markdown",
      "id": "b583485d-1f9e-494e-ada4-80ffff7c53d6",
      "metadata": {
        "id": "b583485d-1f9e-494e-ada4-80ffff7c53d6"
      },
      "source": [
        "2. Напишите запрос, который посчитает количество работодателей (таблица employers). "
      ]
    },
    {
      "cell_type": "code",
      "execution_count": 7,
      "id": "5408c52c-3407-4a63-b25b-1aafa2322d28",
      "metadata": {
        "id": "5408c52c-3407-4a63-b25b-1aafa2322d28"
      },
      "outputs": [],
      "source": [
        "# текст запроса\n",
        "query_2 = f'''select count(e.name)\n",
        "            from employers e\n",
        "            '''"
      ]
    },
    {
      "cell_type": "code",
      "execution_count": 8,
      "id": "jVL4eshKhdqc",
      "metadata": {
        "id": "jVL4eshKhdqc"
      },
      "outputs": [
        {
          "name": "stderr",
          "output_type": "stream",
          "text": [
            "C:\\Users\\79654\\AppData\\Local\\Temp\\ipykernel_21948\\269379789.py:2: UserWarning: pandas only supports SQLAlchemy connectable (engine/connection) or database string URI or sqlite3 DBAPI2 connection. Other DBAPI2 objects are not tested. Please consider using SQLAlchemy.\n",
            "  result_2 = pd.read_sql_query(query_2, connection)\n"
          ]
        },
        {
          "data": {
            "text/html": [
              "<div>\n",
              "<style scoped>\n",
              "    .dataframe tbody tr th:only-of-type {\n",
              "        vertical-align: middle;\n",
              "    }\n",
              "\n",
              "    .dataframe tbody tr th {\n",
              "        vertical-align: top;\n",
              "    }\n",
              "\n",
              "    .dataframe thead th {\n",
              "        text-align: right;\n",
              "    }\n",
              "</style>\n",
              "<table border=\"1\" class=\"dataframe\">\n",
              "  <thead>\n",
              "    <tr style=\"text-align: right;\">\n",
              "      <th></th>\n",
              "      <th>count</th>\n",
              "    </tr>\n",
              "  </thead>\n",
              "  <tbody>\n",
              "    <tr>\n",
              "      <th>0</th>\n",
              "      <td>23501</td>\n",
              "    </tr>\n",
              "  </tbody>\n",
              "</table>\n",
              "</div>"
            ],
            "text/plain": [
              "   count\n",
              "0  23501"
            ]
          },
          "metadata": {},
          "output_type": "display_data"
        }
      ],
      "source": [
        "# результат запроса\n",
        "result_2 = pd.read_sql_query(query_2, connection)\n",
        "display(result_2)"
      ]
    },
    {
      "cell_type": "markdown",
      "id": "419e9b3d",
      "metadata": {},
      "source": [
        "#### Половина всех вакансий занимают работодатели (23 500 тыс. раб. из 50 000 тыс. всех вакансий). \n",
        "#### Откуда у нас так много работодателей? Большинству крупных компаний постоянно требуются много специалистов, поэтому они могут выставлять сразу несколько вакансий в различных сферах деятельности."
      ]
    },
    {
      "cell_type": "markdown",
      "id": "a2bfff1f-c975-4bf6-84be-2185d79dcb76",
      "metadata": {
        "id": "a2bfff1f-c975-4bf6-84be-2185d79dcb76"
      },
      "source": [
        "3. Посчитате с помощью запроса количество регионов (таблица areas)."
      ]
    },
    {
      "cell_type": "code",
      "execution_count": 9,
      "id": "1m8QJwBYhey6",
      "metadata": {
        "id": "1m8QJwBYhey6"
      },
      "outputs": [],
      "source": [
        "# текст запроса\n",
        "query_3 = f'''select count(distinct a.name)\n",
        "            from areas a\n",
        "            '''"
      ]
    },
    {
      "cell_type": "code",
      "execution_count": 10,
      "id": "EZsn9tlfhe7f",
      "metadata": {
        "id": "EZsn9tlfhe7f"
      },
      "outputs": [
        {
          "name": "stderr",
          "output_type": "stream",
          "text": [
            "C:\\Users\\79654\\AppData\\Local\\Temp\\ipykernel_21948\\185323650.py:2: UserWarning: pandas only supports SQLAlchemy connectable (engine/connection) or database string URI or sqlite3 DBAPI2 connection. Other DBAPI2 objects are not tested. Please consider using SQLAlchemy.\n",
            "  result_3 = pd.read_sql_query(query_3, connection)\n"
          ]
        },
        {
          "data": {
            "text/html": [
              "<div>\n",
              "<style scoped>\n",
              "    .dataframe tbody tr th:only-of-type {\n",
              "        vertical-align: middle;\n",
              "    }\n",
              "\n",
              "    .dataframe tbody tr th {\n",
              "        vertical-align: top;\n",
              "    }\n",
              "\n",
              "    .dataframe thead th {\n",
              "        text-align: right;\n",
              "    }\n",
              "</style>\n",
              "<table border=\"1\" class=\"dataframe\">\n",
              "  <thead>\n",
              "    <tr style=\"text-align: right;\">\n",
              "      <th></th>\n",
              "      <th>count</th>\n",
              "    </tr>\n",
              "  </thead>\n",
              "  <tbody>\n",
              "    <tr>\n",
              "      <th>0</th>\n",
              "      <td>1362</td>\n",
              "    </tr>\n",
              "  </tbody>\n",
              "</table>\n",
              "</div>"
            ],
            "text/plain": [
              "   count\n",
              "0   1362"
            ]
          },
          "metadata": {},
          "output_type": "display_data"
        }
      ],
      "source": [
        "# результат запроса\n",
        "result_3 = pd.read_sql_query(query_3, connection)\n",
        "display(result_3)"
      ]
    },
    {
      "cell_type": "markdown",
      "id": "6d4a7b87",
      "metadata": {},
      "source": [
        "#### В нашей таблице находятся вакансии из 1362 регионов. Откуда у нас столько регионов? Ведь только в России на данный момент насчитывается 1118 городов. Дело в том, что эта компания предоставляет доступ к своим услугам в 119 странах мира. Из этого можно сделать вывод, что эта компания работает по всему миру и имеет много клиентов."
      ]
    },
    {
      "cell_type": "markdown",
      "id": "41bb59f3-53cc-4a67-a5bc-bedf573955e4",
      "metadata": {
        "id": "41bb59f3-53cc-4a67-a5bc-bedf573955e4"
      },
      "source": [
        "4. Посчитате с помощью запроса количество сфер деятельности в базе (таблица industries)."
      ]
    },
    {
      "cell_type": "code",
      "execution_count": 11,
      "id": "d286cf4c-707b-4cd2-9190-7ab3587d04a1",
      "metadata": {
        "id": "d286cf4c-707b-4cd2-9190-7ab3587d04a1"
      },
      "outputs": [],
      "source": [
        "# текст запроса\n",
        "query_4 = f'''select count(distinct i.name)\n",
        "            from industries i\n",
        "            ''' "
      ]
    },
    {
      "cell_type": "code",
      "execution_count": 12,
      "id": "JYAaoZ4qhfzW",
      "metadata": {
        "id": "JYAaoZ4qhfzW"
      },
      "outputs": [
        {
          "name": "stderr",
          "output_type": "stream",
          "text": [
            "C:\\Users\\79654\\AppData\\Local\\Temp\\ipykernel_21948\\638255518.py:2: UserWarning: pandas only supports SQLAlchemy connectable (engine/connection) or database string URI or sqlite3 DBAPI2 connection. Other DBAPI2 objects are not tested. Please consider using SQLAlchemy.\n",
            "  result_4 = pd.read_sql_query(query_4, connection)\n"
          ]
        },
        {
          "data": {
            "text/html": [
              "<div>\n",
              "<style scoped>\n",
              "    .dataframe tbody tr th:only-of-type {\n",
              "        vertical-align: middle;\n",
              "    }\n",
              "\n",
              "    .dataframe tbody tr th {\n",
              "        vertical-align: top;\n",
              "    }\n",
              "\n",
              "    .dataframe thead th {\n",
              "        text-align: right;\n",
              "    }\n",
              "</style>\n",
              "<table border=\"1\" class=\"dataframe\">\n",
              "  <thead>\n",
              "    <tr style=\"text-align: right;\">\n",
              "      <th></th>\n",
              "      <th>count</th>\n",
              "    </tr>\n",
              "  </thead>\n",
              "  <tbody>\n",
              "    <tr>\n",
              "      <th>0</th>\n",
              "      <td>294</td>\n",
              "    </tr>\n",
              "  </tbody>\n",
              "</table>\n",
              "</div>"
            ],
            "text/plain": [
              "   count\n",
              "0    294"
            ]
          },
          "metadata": {},
          "output_type": "display_data"
        }
      ],
      "source": [
        "# результат запроса\n",
        "result_4 = pd.read_sql_query(query_4, connection)\n",
        "display(result_4)"
      ]
    },
    {
      "cell_type": "markdown",
      "id": "3ea16e7d",
      "metadata": {},
      "source": [
        "#### В нашей таблице насчитывается около 300 сфер деятельности. Этого достаточно, чтобы сказать, что на сайте очень много работодателей с разными сферами деятельности. Это также подтверждает популярность этого сайта среди соискателей, независимо от их сферы деятельности."
      ]
    },
    {
      "cell_type": "markdown",
      "id": "9a8a2181-6914-448b-85f1-38f5f18b8a93",
      "metadata": {
        "id": "9a8a2181-6914-448b-85f1-38f5f18b8a93"
      },
      "source": [
        "***"
      ]
    },
    {
      "cell_type": "markdown",
      "id": "45e2985f",
      "metadata": {},
      "source": [
        "### Выводы по предварительному анализу данных\n",
        "### Подведём небольшие итоги:\n",
        "- количество вакансий 49197\n",
        "- количество работадателей 23501\n",
        "- количество регионов 1362\n",
        "- количество сфер деятельности 294"
      ]
    },
    {
      "cell_type": "markdown",
      "id": "8d62a9f3-f64e-4fe7-bdac-c4dffa16155e",
      "metadata": {
        "id": "8d62a9f3-f64e-4fe7-bdac-c4dffa16155e"
      },
      "source": [
        "# Юнит 4. Детальный анализ вакансий"
      ]
    },
    {
      "cell_type": "markdown",
      "id": "93053d3d-b284-481a-9cf7-012d7014c0e0",
      "metadata": {
        "id": "93053d3d-b284-481a-9cf7-012d7014c0e0"
      },
      "source": [
        "1. Напишите запрос, который позволит узнать, сколько (cnt) вакансий в каждом регионе (area).\n",
        "Отсортируйте по количеству вакансий в порядке убывания."
      ]
    },
    {
      "cell_type": "code",
      "execution_count": 13,
      "id": "3f069da6-fdc9-4ae7-b514-fafe2675efd3",
      "metadata": {
        "id": "3f069da6-fdc9-4ae7-b514-fafe2675efd3"
      },
      "outputs": [],
      "source": [
        "# текст запроса\n",
        "query_5 = f'''select a.name,\n",
        "                    count(v.area_id)\n",
        "            from vacancies v\n",
        "            join areas a on a.id = v.area_id\n",
        "            group by 1\n",
        "            order by 2 desc\n",
        "            limit 5\n",
        "            '''"
      ]
    },
    {
      "cell_type": "code",
      "execution_count": 14,
      "id": "P7QL86hrjhRJ",
      "metadata": {
        "id": "P7QL86hrjhRJ"
      },
      "outputs": [
        {
          "name": "stderr",
          "output_type": "stream",
          "text": [
            "C:\\Users\\79654\\AppData\\Local\\Temp\\ipykernel_21948\\1926595251.py:2: UserWarning: pandas only supports SQLAlchemy connectable (engine/connection) or database string URI or sqlite3 DBAPI2 connection. Other DBAPI2 objects are not tested. Please consider using SQLAlchemy.\n",
            "  result_5 = pd.read_sql_query(query_5, connection)\n"
          ]
        },
        {
          "data": {
            "text/html": [
              "<div>\n",
              "<style scoped>\n",
              "    .dataframe tbody tr th:only-of-type {\n",
              "        vertical-align: middle;\n",
              "    }\n",
              "\n",
              "    .dataframe tbody tr th {\n",
              "        vertical-align: top;\n",
              "    }\n",
              "\n",
              "    .dataframe thead th {\n",
              "        text-align: right;\n",
              "    }\n",
              "</style>\n",
              "<table border=\"1\" class=\"dataframe\">\n",
              "  <thead>\n",
              "    <tr style=\"text-align: right;\">\n",
              "      <th></th>\n",
              "      <th>name</th>\n",
              "      <th>count</th>\n",
              "    </tr>\n",
              "  </thead>\n",
              "  <tbody>\n",
              "    <tr>\n",
              "      <th>0</th>\n",
              "      <td>Москва</td>\n",
              "      <td>5333</td>\n",
              "    </tr>\n",
              "    <tr>\n",
              "      <th>1</th>\n",
              "      <td>Санкт-Петербург</td>\n",
              "      <td>2851</td>\n",
              "    </tr>\n",
              "    <tr>\n",
              "      <th>2</th>\n",
              "      <td>Минск</td>\n",
              "      <td>2112</td>\n",
              "    </tr>\n",
              "    <tr>\n",
              "      <th>3</th>\n",
              "      <td>Новосибирск</td>\n",
              "      <td>2006</td>\n",
              "    </tr>\n",
              "    <tr>\n",
              "      <th>4</th>\n",
              "      <td>Алматы</td>\n",
              "      <td>1892</td>\n",
              "    </tr>\n",
              "  </tbody>\n",
              "</table>\n",
              "</div>"
            ],
            "text/plain": [
              "              name  count\n",
              "0           Москва   5333\n",
              "1  Санкт-Петербург   2851\n",
              "2            Минск   2112\n",
              "3      Новосибирск   2006\n",
              "4           Алматы   1892"
            ]
          },
          "metadata": {},
          "output_type": "display_data"
        }
      ],
      "source": [
        "# результат запроса\n",
        "result_5 = pd.read_sql_query(query_5, connection)\n",
        "display(result_5)"
      ]
    },
    {
      "cell_type": "markdown",
      "id": "0c33212d",
      "metadata": {},
      "source": [
        "#### Мы видим, что в пятерку лидеров по вакансиям на регион попадают такие большие города как: Москва, Санкт-Петербург, Минск, Новосибирск и Алматы.\n",
        "#### Почему по количеству вакансий лидируют именно эти города? Эти города имеют крупные предприятия, компании и организации, которые предлагают большое количество рабочих мест. Также, такие города обладают развитой инфраструктурой и доступом к различным услугам, что делает их привлекательными для работников. Все эти факторы в совокупности способствуют высокому количеству вакансий в этих городах."
      ]
    },
    {
      "cell_type": "markdown",
      "id": "4266f0b6-1646-492a-88b4-2f6a46502135",
      "metadata": {
        "id": "4266f0b6-1646-492a-88b4-2f6a46502135"
      },
      "source": [
        "2. Напишите запрос, чтобы определить у какого количества вакансий заполнено хотя бы одно из двух полей с зарплатой."
      ]
    },
    {
      "cell_type": "code",
      "execution_count": 15,
      "id": "0c44b350-72eb-4d65-8b54-a1fc449ba9fd",
      "metadata": {
        "id": "0c44b350-72eb-4d65-8b54-a1fc449ba9fd"
      },
      "outputs": [],
      "source": [
        "# текст запроса\n",
        "query_6 = f'''select count(v.*)\n",
        "            from vacancies v\n",
        "            where salary_from is not null or salary_to is not null\n",
        "            ''' "
      ]
    },
    {
      "cell_type": "code",
      "execution_count": 16,
      "id": "rhvwaMDkoWTi",
      "metadata": {
        "id": "rhvwaMDkoWTi"
      },
      "outputs": [
        {
          "name": "stderr",
          "output_type": "stream",
          "text": [
            "C:\\Users\\79654\\AppData\\Local\\Temp\\ipykernel_21948\\3505228012.py:2: UserWarning: pandas only supports SQLAlchemy connectable (engine/connection) or database string URI or sqlite3 DBAPI2 connection. Other DBAPI2 objects are not tested. Please consider using SQLAlchemy.\n",
            "  result_6 = pd.read_sql_query(query_6, connection)\n"
          ]
        },
        {
          "data": {
            "text/html": [
              "<div>\n",
              "<style scoped>\n",
              "    .dataframe tbody tr th:only-of-type {\n",
              "        vertical-align: middle;\n",
              "    }\n",
              "\n",
              "    .dataframe tbody tr th {\n",
              "        vertical-align: top;\n",
              "    }\n",
              "\n",
              "    .dataframe thead th {\n",
              "        text-align: right;\n",
              "    }\n",
              "</style>\n",
              "<table border=\"1\" class=\"dataframe\">\n",
              "  <thead>\n",
              "    <tr style=\"text-align: right;\">\n",
              "      <th></th>\n",
              "      <th>count</th>\n",
              "    </tr>\n",
              "  </thead>\n",
              "  <tbody>\n",
              "    <tr>\n",
              "      <th>0</th>\n",
              "      <td>24073</td>\n",
              "    </tr>\n",
              "  </tbody>\n",
              "</table>\n",
              "</div>"
            ],
            "text/plain": [
              "   count\n",
              "0  24073"
            ]
          },
          "metadata": {},
          "output_type": "display_data"
        }
      ],
      "source": [
        "# результат запроса\n",
        "result_6 = pd.read_sql_query(query_6, connection)\n",
        "display(result_6)"
      ]
    },
    {
      "cell_type": "markdown",
      "id": "de426e8f",
      "metadata": {},
      "source": [
        "#### В нашей таблице у половины вакансий заполнено хотя бы одно заработное поле. Это значит, что соискатели и работодатели заранее определяют для себя заработной минимум или максимум. Возможно, те, кто не указывают ни одного заработного поля, хотят получить больше откликов и разных предложений с разными заработными платами."
      ]
    },
    {
      "cell_type": "markdown",
      "id": "635c4d5d-f323-4c66-b428-50a088120aa0",
      "metadata": {
        "id": "635c4d5d-f323-4c66-b428-50a088120aa0"
      },
      "source": [
        "3. Найдите средние значения для нижней и верхней границы зарплатной вилки. Округлите значения до целого."
      ]
    },
    {
      "cell_type": "code",
      "execution_count": 17,
      "id": "603cdbe4-0ec3-4106-8eaf-c73fcdd29165",
      "metadata": {
        "id": "603cdbe4-0ec3-4106-8eaf-c73fcdd29165"
      },
      "outputs": [],
      "source": [
        "# текст запроса\n",
        "query_7 = f'''select round(avg(salary_from)) as salary_from,\n",
        "                    round(avg(salary_to)) as salary_to\n",
        "            from vacancies v\n",
        "            ''' "
      ]
    },
    {
      "cell_type": "code",
      "execution_count": 18,
      "id": "pswpAb66ovZZ",
      "metadata": {
        "id": "pswpAb66ovZZ"
      },
      "outputs": [
        {
          "name": "stderr",
          "output_type": "stream",
          "text": [
            "C:\\Users\\79654\\AppData\\Local\\Temp\\ipykernel_21948\\4196778817.py:2: UserWarning: pandas only supports SQLAlchemy connectable (engine/connection) or database string URI or sqlite3 DBAPI2 connection. Other DBAPI2 objects are not tested. Please consider using SQLAlchemy.\n",
            "  result_7 = pd.read_sql_query(query_7, connection)\n"
          ]
        },
        {
          "data": {
            "text/html": [
              "<div>\n",
              "<style scoped>\n",
              "    .dataframe tbody tr th:only-of-type {\n",
              "        vertical-align: middle;\n",
              "    }\n",
              "\n",
              "    .dataframe tbody tr th {\n",
              "        vertical-align: top;\n",
              "    }\n",
              "\n",
              "    .dataframe thead th {\n",
              "        text-align: right;\n",
              "    }\n",
              "</style>\n",
              "<table border=\"1\" class=\"dataframe\">\n",
              "  <thead>\n",
              "    <tr style=\"text-align: right;\">\n",
              "      <th></th>\n",
              "      <th>salary_from</th>\n",
              "      <th>salary_to</th>\n",
              "    </tr>\n",
              "  </thead>\n",
              "  <tbody>\n",
              "    <tr>\n",
              "      <th>0</th>\n",
              "      <td>71065.0</td>\n",
              "      <td>110537.0</td>\n",
              "    </tr>\n",
              "  </tbody>\n",
              "</table>\n",
              "</div>"
            ],
            "text/plain": [
              "   salary_from  salary_to\n",
              "0      71065.0   110537.0"
            ]
          },
          "metadata": {},
          "output_type": "display_data"
        }
      ],
      "source": [
        "# результат запроса\n",
        "result_7 = pd.read_sql_query(query_7, connection)\n",
        "display(result_7)"
      ]
    },
    {
      "cell_type": "markdown",
      "id": "4bd9bc4d",
      "metadata": {},
      "source": [
        "#### В нашей таблице средним значением нижней границы заработной платы является 71 000 руб., а верхняя граница равна 110 000 руб.\n",
        "#### Почему именно такие цифры и кто в основном влияет на такую статистику?\n",
        "#### В нашей таблице (26,000 вакансий с опытом работы от 1 года до 3 лет, а это чуть больше половины наших вакансий), то есть это в основном специалисты джуниор уровня. На данный момент специалист джуниор уровня получает в среднем от 60,000 руб. до 80,000 руб. Однако, около 15,000 вакансий с опытом работы от трех до шести лет, люди с таким стажем могут работать специалистами мидл уровня. Это также создает влияние на границы заработных плат в наших данных, на данный момент мидлы могут зарабатывать от 100,000 руб. до 140,000 руб., и если брать специалистов с опытом работы (более 6 лет, таких специалистов в нашей таблице достаточно мало всего 1300 тыс. вакансий), со средней заработной платой от 150,000 руб. до 300,000 руб., то можно сделать вывод, что большиство вакансий это джуниоры и мидлы, именно из их средних границ заработных плат, создаются наши нижние и верхние границы."
      ]
    },
    {
      "cell_type": "markdown",
      "id": "f3fdaec9-5fd3-4260-9cf5-1d7406b628a5",
      "metadata": {
        "id": "f3fdaec9-5fd3-4260-9cf5-1d7406b628a5"
      },
      "source": [
        "4. Напишите запрос, который выведет количество вакансий для каждого сочетания типа рабочего графика (schedule) и типа трудоустройства (employment), используемого в вакансиях. Результат отсортируйте по убыванию количества.\n"
      ]
    },
    {
      "cell_type": "code",
      "execution_count": 19,
      "id": "1ea710ec-871b-431e-9462-c7d0fd87011b",
      "metadata": {
        "id": "1ea710ec-871b-431e-9462-c7d0fd87011b"
      },
      "outputs": [],
      "source": [
        "# текст запроса\n",
        "query_8 = f'''select v.schedule,\n",
        "                v.employment,\n",
        "                count(v.*)\n",
        "            from vacancies v\n",
        "            group by 1, 2\n",
        "            order by 3 desc\n",
        "        '''"
      ]
    },
    {
      "cell_type": "code",
      "execution_count": 20,
      "id": "lGUVqavdo4JQ",
      "metadata": {
        "id": "lGUVqavdo4JQ"
      },
      "outputs": [
        {
          "name": "stderr",
          "output_type": "stream",
          "text": [
            "C:\\Users\\79654\\AppData\\Local\\Temp\\ipykernel_21948\\3133710946.py:2: UserWarning: pandas only supports SQLAlchemy connectable (engine/connection) or database string URI or sqlite3 DBAPI2 connection. Other DBAPI2 objects are not tested. Please consider using SQLAlchemy.\n",
            "  result_8 = pd.read_sql_query(query_8, connection)\n"
          ]
        },
        {
          "data": {
            "text/html": [
              "<div>\n",
              "<style scoped>\n",
              "    .dataframe tbody tr th:only-of-type {\n",
              "        vertical-align: middle;\n",
              "    }\n",
              "\n",
              "    .dataframe tbody tr th {\n",
              "        vertical-align: top;\n",
              "    }\n",
              "\n",
              "    .dataframe thead th {\n",
              "        text-align: right;\n",
              "    }\n",
              "</style>\n",
              "<table border=\"1\" class=\"dataframe\">\n",
              "  <thead>\n",
              "    <tr style=\"text-align: right;\">\n",
              "      <th></th>\n",
              "      <th>schedule</th>\n",
              "      <th>employment</th>\n",
              "      <th>count</th>\n",
              "    </tr>\n",
              "  </thead>\n",
              "  <tbody>\n",
              "    <tr>\n",
              "      <th>0</th>\n",
              "      <td>Полный день</td>\n",
              "      <td>Полная занятость</td>\n",
              "      <td>35367</td>\n",
              "    </tr>\n",
              "    <tr>\n",
              "      <th>1</th>\n",
              "      <td>Удаленная работа</td>\n",
              "      <td>Полная занятость</td>\n",
              "      <td>7802</td>\n",
              "    </tr>\n",
              "    <tr>\n",
              "      <th>2</th>\n",
              "      <td>Гибкий график</td>\n",
              "      <td>Полная занятость</td>\n",
              "      <td>1593</td>\n",
              "    </tr>\n",
              "    <tr>\n",
              "      <th>3</th>\n",
              "      <td>Удаленная работа</td>\n",
              "      <td>Частичная занятость</td>\n",
              "      <td>1312</td>\n",
              "    </tr>\n",
              "    <tr>\n",
              "      <th>4</th>\n",
              "      <td>Сменный график</td>\n",
              "      <td>Полная занятость</td>\n",
              "      <td>940</td>\n",
              "    </tr>\n",
              "    <tr>\n",
              "      <th>5</th>\n",
              "      <td>Полный день</td>\n",
              "      <td>Стажировка</td>\n",
              "      <td>569</td>\n",
              "    </tr>\n",
              "    <tr>\n",
              "      <th>6</th>\n",
              "      <td>Вахтовый метод</td>\n",
              "      <td>Полная занятость</td>\n",
              "      <td>367</td>\n",
              "    </tr>\n",
              "    <tr>\n",
              "      <th>7</th>\n",
              "      <td>Полный день</td>\n",
              "      <td>Частичная занятость</td>\n",
              "      <td>347</td>\n",
              "    </tr>\n",
              "    <tr>\n",
              "      <th>8</th>\n",
              "      <td>Гибкий график</td>\n",
              "      <td>Частичная занятость</td>\n",
              "      <td>312</td>\n",
              "    </tr>\n",
              "    <tr>\n",
              "      <th>9</th>\n",
              "      <td>Полный день</td>\n",
              "      <td>Проектная работа</td>\n",
              "      <td>141</td>\n",
              "    </tr>\n",
              "    <tr>\n",
              "      <th>10</th>\n",
              "      <td>Удаленная работа</td>\n",
              "      <td>Проектная работа</td>\n",
              "      <td>133</td>\n",
              "    </tr>\n",
              "    <tr>\n",
              "      <th>11</th>\n",
              "      <td>Гибкий график</td>\n",
              "      <td>Стажировка</td>\n",
              "      <td>116</td>\n",
              "    </tr>\n",
              "    <tr>\n",
              "      <th>12</th>\n",
              "      <td>Сменный график</td>\n",
              "      <td>Частичная занятость</td>\n",
              "      <td>101</td>\n",
              "    </tr>\n",
              "    <tr>\n",
              "      <th>13</th>\n",
              "      <td>Удаленная работа</td>\n",
              "      <td>Стажировка</td>\n",
              "      <td>64</td>\n",
              "    </tr>\n",
              "    <tr>\n",
              "      <th>14</th>\n",
              "      <td>Гибкий график</td>\n",
              "      <td>Проектная работа</td>\n",
              "      <td>18</td>\n",
              "    </tr>\n",
              "    <tr>\n",
              "      <th>15</th>\n",
              "      <td>Сменный график</td>\n",
              "      <td>Стажировка</td>\n",
              "      <td>12</td>\n",
              "    </tr>\n",
              "    <tr>\n",
              "      <th>16</th>\n",
              "      <td>Вахтовый метод</td>\n",
              "      <td>Проектная работа</td>\n",
              "      <td>2</td>\n",
              "    </tr>\n",
              "    <tr>\n",
              "      <th>17</th>\n",
              "      <td>Сменный график</td>\n",
              "      <td>Проектная работа</td>\n",
              "      <td>1</td>\n",
              "    </tr>\n",
              "  </tbody>\n",
              "</table>\n",
              "</div>"
            ],
            "text/plain": [
              "            schedule           employment  count\n",
              "0        Полный день     Полная занятость  35367\n",
              "1   Удаленная работа     Полная занятость   7802\n",
              "2      Гибкий график     Полная занятость   1593\n",
              "3   Удаленная работа  Частичная занятость   1312\n",
              "4     Сменный график     Полная занятость    940\n",
              "5        Полный день           Стажировка    569\n",
              "6     Вахтовый метод     Полная занятость    367\n",
              "7        Полный день  Частичная занятость    347\n",
              "8      Гибкий график  Частичная занятость    312\n",
              "9        Полный день     Проектная работа    141\n",
              "10  Удаленная работа     Проектная работа    133\n",
              "11     Гибкий график           Стажировка    116\n",
              "12    Сменный график  Частичная занятость    101\n",
              "13  Удаленная работа           Стажировка     64\n",
              "14     Гибкий график     Проектная работа     18\n",
              "15    Сменный график           Стажировка     12\n",
              "16    Вахтовый метод     Проектная работа      2\n",
              "17    Сменный график     Проектная работа      1"
            ]
          },
          "metadata": {},
          "output_type": "display_data"
        }
      ],
      "source": [
        "# результат запроса\n",
        "result_8 = pd.read_sql_query(query_8, connection)\n",
        "display(result_8)"
      ]
    },
    {
      "cell_type": "markdown",
      "id": "a079d902",
      "metadata": {},
      "source": [
        "#### Самым популярным сочетанием является \"Полный день : Полная занятость\".\n",
        "#### Почему с большим отрывом именно это сочетание является самым популярным? Тип рабочего графика \"Полный день\" является наиболее востребованным и наиболее высокооплачиваемым, так как люди с полным рабочим днём работают больше. Тип трудоустройства \"Полная занятость\", также является наиболее востребованным и наиболее высокооплачиваемым, так как полная занятость означает, что это основная и постоянная работа, это то что и нужно соискателю и работадателю.\n",
        "#### Почему Тип рабочего графика \"Удалённая работа\", проигрывает полному дню по количеству вакансий? Удалённая работа наименее популярна, чем полный день, работадателю удобнее иметь сотрудника в штате на полный рабочий день, для возможности его контролировать."
      ]
    },
    {
      "cell_type": "markdown",
      "id": "0136ffee-0ead-4a6b-b608-61d1c753a438",
      "metadata": {
        "id": "0136ffee-0ead-4a6b-b608-61d1c753a438"
      },
      "source": [
        "5. Напишите запрос, выводящий значения поля Требуемый опыт работы (experience) в порядке возрастания количества вакансий, в которых указан данный вариант опыта. "
      ]
    },
    {
      "cell_type": "code",
      "execution_count": 21,
      "id": "5b3a8e79-f7ab-4008-b767-12aea3a205ea",
      "metadata": {
        "id": "5b3a8e79-f7ab-4008-b767-12aea3a205ea"
      },
      "outputs": [],
      "source": [
        "# текст запроса\n",
        "query_9 = f'''select v.experience,\n",
        "                    count(v.*)\n",
        "            from vacancies v\n",
        "            group by 1\n",
        "            order by 2\n",
        "            '''"
      ]
    },
    {
      "cell_type": "code",
      "execution_count": 22,
      "id": "3Is64Y-hpDpq",
      "metadata": {
        "id": "3Is64Y-hpDpq"
      },
      "outputs": [
        {
          "name": "stderr",
          "output_type": "stream",
          "text": [
            "C:\\Users\\79654\\AppData\\Local\\Temp\\ipykernel_21948\\789061708.py:2: UserWarning: pandas only supports SQLAlchemy connectable (engine/connection) or database string URI or sqlite3 DBAPI2 connection. Other DBAPI2 objects are not tested. Please consider using SQLAlchemy.\n",
            "  result_9 = pd.read_sql_query(query_9, connection)\n"
          ]
        },
        {
          "data": {
            "text/html": [
              "<div>\n",
              "<style scoped>\n",
              "    .dataframe tbody tr th:only-of-type {\n",
              "        vertical-align: middle;\n",
              "    }\n",
              "\n",
              "    .dataframe tbody tr th {\n",
              "        vertical-align: top;\n",
              "    }\n",
              "\n",
              "    .dataframe thead th {\n",
              "        text-align: right;\n",
              "    }\n",
              "</style>\n",
              "<table border=\"1\" class=\"dataframe\">\n",
              "  <thead>\n",
              "    <tr style=\"text-align: right;\">\n",
              "      <th></th>\n",
              "      <th>experience</th>\n",
              "      <th>count</th>\n",
              "    </tr>\n",
              "  </thead>\n",
              "  <tbody>\n",
              "    <tr>\n",
              "      <th>0</th>\n",
              "      <td>Более 6 лет</td>\n",
              "      <td>1337</td>\n",
              "    </tr>\n",
              "    <tr>\n",
              "      <th>1</th>\n",
              "      <td>Нет опыта</td>\n",
              "      <td>7197</td>\n",
              "    </tr>\n",
              "    <tr>\n",
              "      <th>2</th>\n",
              "      <td>От 3 до 6 лет</td>\n",
              "      <td>14511</td>\n",
              "    </tr>\n",
              "    <tr>\n",
              "      <th>3</th>\n",
              "      <td>От 1 года до 3 лет</td>\n",
              "      <td>26152</td>\n",
              "    </tr>\n",
              "  </tbody>\n",
              "</table>\n",
              "</div>"
            ],
            "text/plain": [
              "           experience  count\n",
              "0         Более 6 лет   1337\n",
              "1           Нет опыта   7197\n",
              "2       От 3 до 6 лет  14511\n",
              "3  От 1 года до 3 лет  26152"
            ]
          },
          "metadata": {},
          "output_type": "display_data"
        }
      ],
      "source": [
        "# результат запроса\n",
        "result_9 = pd.read_sql_query(query_9, connection)\n",
        "display(result_9)"
      ]
    },
    {
      "cell_type": "markdown",
      "id": "b01fa142",
      "metadata": {},
      "source": [
        "##### Почему самым не многочисленным опытом работы является \"От 1 года до 3 лет\", а самым малочисленным является \"Более 6 лет\"?\n",
        "##### Начнём с самого многочисленного, так как опыт работы от 1 года до 3 лет является чем-то средним, так как опыт есть, но и небольшой, для работадателя это означает, что соискатель уже знаком с профессией на практике и у него есть реальный опыт работы. Для соискателя такой опыт работы может означать, что он уже работал на данной профессии, но за меньшую заработную плату и поэтому решил поменять место работы, на более оплачиваемою работу\n",
        "#### Итак почему самым малочисленным опытом работы является \"Более 6 лет\"? Я считаю, что специалистов с большим опытом работы, разбирают крупные компаниии, которые нуждаются в специалистах такого высокого уровня, они предлагают им крупные заработные платы, хорошие условия, льготы и т.п., поэтому специалистов с таким большим опытом работы очень быстро берут на работы крупные компании, которые в них нуждаются"
      ]
    },
    {
      "cell_type": "markdown",
      "id": "oq2b7n1QpIka",
      "metadata": {
        "id": "oq2b7n1QpIka"
      },
      "source": [
        "***"
      ]
    },
    {
      "cell_type": "markdown",
      "id": "513b6f20",
      "metadata": {},
      "source": [
        "### выводы по детальному анализу вакансий\n",
        "#### По детальному анализу данных я понял, что компания \"HeadHunter\" работает по всему миру, вследствие чего, у неё очень много разных вакансий, с разными IT сферами.\n",
        "#### Небольшие итоги по заданиям\n",
        "- По количеству вакансий лидируют большие города миллионники, такие как: Москва, Санкт-Петербург и Минск\n",
        "- У 48% вакансий заполнено хотя бы одно из двух полей с зарплатой\n",
        "- Среднее значение верхней границы заработной вилки 110,000 руб, а нижней 71,000 руб, нижняя граница на 30% больше, чем средняя зарплата в Российской Федерации (55,000 руб)\n",
        "- Самыми популярными сочетаниями графика работы и типа трудоустройства являются: (Полный день : Полная занятость), (Удалённая работа : Полная занятость), (Гибкий график : Полная занятость)\n",
        "- Самым многочисленным опытом работы является - от 1 года до 3 лет"
      ]
    },
    {
      "cell_type": "markdown",
      "id": "7ea20ab6-04a7-40a0-adec-443a0e5a42c3",
      "metadata": {
        "id": "7ea20ab6-04a7-40a0-adec-443a0e5a42c3"
      },
      "source": [
        "# Юнит 5. Анализ работодателей"
      ]
    },
    {
      "cell_type": "markdown",
      "id": "968aed80-74ef-4ffb-b5bf-c65b84e9caea",
      "metadata": {
        "id": "968aed80-74ef-4ffb-b5bf-c65b84e9caea"
      },
      "source": [
        "1. Напишите запрос, который позволит узнать, какие работодатели находятся на первом и пятом месте по количеству вакансий."
      ]
    },
    {
      "cell_type": "code",
      "execution_count": 23,
      "id": "f2d62796-d400-4ec1-a675-88112739a50e",
      "metadata": {
        "id": "f2d62796-d400-4ec1-a675-88112739a50e"
      },
      "outputs": [],
      "source": [
        "# текст запроса\n",
        "query_10 = f'''select e.name,\n",
        "                    count(v.*)\n",
        "            from employers e\n",
        "            join vacancies v on e.id = v.employer_id\n",
        "            group by 1\n",
        "            order by 2 desc\n",
        "            limit 6\n",
        "            '''"
      ]
    },
    {
      "cell_type": "code",
      "execution_count": 24,
      "id": "64tOMkAxqkQk",
      "metadata": {
        "id": "64tOMkAxqkQk"
      },
      "outputs": [
        {
          "name": "stderr",
          "output_type": "stream",
          "text": [
            "C:\\Users\\79654\\AppData\\Local\\Temp\\ipykernel_21948\\513475939.py:2: UserWarning: pandas only supports SQLAlchemy connectable (engine/connection) or database string URI or sqlite3 DBAPI2 connection. Other DBAPI2 objects are not tested. Please consider using SQLAlchemy.\n",
            "  result_10 = pd.read_sql_query(query_10, connection)\n"
          ]
        },
        {
          "data": {
            "text/html": [
              "<div>\n",
              "<style scoped>\n",
              "    .dataframe tbody tr th:only-of-type {\n",
              "        vertical-align: middle;\n",
              "    }\n",
              "\n",
              "    .dataframe tbody tr th {\n",
              "        vertical-align: top;\n",
              "    }\n",
              "\n",
              "    .dataframe thead th {\n",
              "        text-align: right;\n",
              "    }\n",
              "</style>\n",
              "<table border=\"1\" class=\"dataframe\">\n",
              "  <thead>\n",
              "    <tr style=\"text-align: right;\">\n",
              "      <th></th>\n",
              "      <th>name</th>\n",
              "      <th>count</th>\n",
              "    </tr>\n",
              "  </thead>\n",
              "  <tbody>\n",
              "    <tr>\n",
              "      <th>0</th>\n",
              "      <td>Яндекс</td>\n",
              "      <td>1933</td>\n",
              "    </tr>\n",
              "    <tr>\n",
              "      <th>1</th>\n",
              "      <td>Ростелеком</td>\n",
              "      <td>491</td>\n",
              "    </tr>\n",
              "    <tr>\n",
              "      <th>2</th>\n",
              "      <td>Тинькофф</td>\n",
              "      <td>444</td>\n",
              "    </tr>\n",
              "    <tr>\n",
              "      <th>3</th>\n",
              "      <td>СБЕР</td>\n",
              "      <td>428</td>\n",
              "    </tr>\n",
              "    <tr>\n",
              "      <th>4</th>\n",
              "      <td>Газпром нефть</td>\n",
              "      <td>331</td>\n",
              "    </tr>\n",
              "    <tr>\n",
              "      <th>5</th>\n",
              "      <td>ИК СИБИНТЕК</td>\n",
              "      <td>327</td>\n",
              "    </tr>\n",
              "  </tbody>\n",
              "</table>\n",
              "</div>"
            ],
            "text/plain": [
              "            name  count\n",
              "0         Яндекс   1933\n",
              "1     Ростелеком    491\n",
              "2       Тинькофф    444\n",
              "3           СБЕР    428\n",
              "4  Газпром нефть    331\n",
              "5    ИК СИБИНТЕК    327"
            ]
          },
          "metadata": {},
          "output_type": "display_data"
        }
      ],
      "source": [
        "# результат запроса\n",
        "result_10 = pd.read_sql_query(query_10, connection)\n",
        "display(result_10)"
      ]
    },
    {
      "cell_type": "markdown",
      "id": "f0346a5d",
      "metadata": {},
      "source": [
        "#### Самой многочисленной компанией является Яндекс 1933 вакансии, У этой компании 25000 сотрудников, большинство которых связаны с IT сферами, а у других компаний и банков в этом топ-5, не явное большинство сотрудников связаны с IT сферами, а так как наша таблица имеет данные именно про IT вакансии, то большинство из всех вакансий IT относится именно к Яндексу"
      ]
    },
    {
      "cell_type": "markdown",
      "id": "68377cfc-b378-43dc-ab7d-1195abf2c515",
      "metadata": {
        "id": "68377cfc-b378-43dc-ab7d-1195abf2c515"
      },
      "source": [
        "2. Напишите запрос, который для каждого региона выведет количество работодателей и вакансий в нём.\n",
        "Среди регионов, в которых нет вакансий, найдите тот, в котором наибольшее количество работодателей.\n"
      ]
    },
    {
      "cell_type": "code",
      "execution_count": 25,
      "id": "dd7df27a-e3e8-412e-a21a-5d389b71e891",
      "metadata": {
        "id": "dd7df27a-e3e8-412e-a21a-5d389b71e891"
      },
      "outputs": [],
      "source": [
        "query_11 = f'''select a.name,\n",
        "                    count(distinct e.id) as employer_count\n",
        "                from areas a\n",
        "                left join employers e on e.area = a.id\n",
        "                left join vacancies v on v.area_id = a.id\n",
        "                group by 1\n",
        "                having count(v.id) = 0\n",
        "                order by 2 desc\n",
        "                limit 1\n",
        "            '''"
      ]
    },
    {
      "cell_type": "code",
      "execution_count": 20,
      "id": "766ea6ba",
      "metadata": {},
      "outputs": [
        {
          "name": "stderr",
          "output_type": "stream",
          "text": [
            "C:\\Users\\79654\\AppData\\Local\\Temp\\ipykernel_11648\\52658179.py:2: UserWarning:\n",
            "\n",
            "pandas only supports SQLAlchemy connectable (engine/connection) or database string URI or sqlite3 DBAPI2 connection. Other DBAPI2 objects are not tested. Please consider using SQLAlchemy.\n",
            "\n"
          ]
        }
      ],
      "source": [
        "# результат запроса\n",
        "result_11 = pd.read_sql_query(query_11, connection)\n",
        "display(result_11)\n",
        "# Вывод Россия 401, просто этот код очень долго работает и я случайно запустил его второй раз, но ждать нет времени, но весь код работает)"
      ]
    },
    {
      "cell_type": "markdown",
      "id": "f2ecb15f",
      "metadata": {},
      "source": [
        "#### Скорее всего ответ такой: регион Россия, 401 вакансия. Так как работодатели могут указывать регион регистрации компании или страну, а соискатели обычно указывают город, в котором живут или куда могут переехать, но не страну.\n",
        "#### Ну а почему именно Россия? Скорее всего, из всех стран (регионов) здесь просто больше вакансий, и поэтому шанс такого варианта указания страны выше."
      ]
    },
    {
      "cell_type": "markdown",
      "id": "4e70e05c",
      "metadata": {},
      "source": [
        "Для каждого работодателя посчитайте количество регионов, в которых он публикует свои вакансии.\n",
        "\n",
        "Выберите максимальное значение из получившегося списка."
      ]
    },
    {
      "cell_type": "code",
      "execution_count": 26,
      "id": "6271f8ad-bd2e-4196-ae4a-5b39c4c1010e",
      "metadata": {
        "id": "6271f8ad-bd2e-4196-ae4a-5b39c4c1010e"
      },
      "outputs": [],
      "source": [
        "# текст запроса\n",
        "query_12 = f'''select e.name,\n",
        "                    count(distinct v.area_id)\n",
        "            from employers e\n",
        "            join vacancies v on e.id = v.employer_id\n",
        "            group by 1\n",
        "            order by 2 desc\n",
        "            limit 1\n",
        "            ''' "
      ]
    },
    {
      "cell_type": "code",
      "execution_count": 27,
      "id": "1EIvX3HasH4F",
      "metadata": {
        "id": "1EIvX3HasH4F"
      },
      "outputs": [
        {
          "name": "stderr",
          "output_type": "stream",
          "text": [
            "C:\\Users\\79654\\AppData\\Local\\Temp\\ipykernel_21948\\1848352006.py:2: UserWarning: pandas only supports SQLAlchemy connectable (engine/connection) or database string URI or sqlite3 DBAPI2 connection. Other DBAPI2 objects are not tested. Please consider using SQLAlchemy.\n",
            "  result_12 = pd.read_sql_query(query_12, connection)\n"
          ]
        },
        {
          "data": {
            "text/html": [
              "<div>\n",
              "<style scoped>\n",
              "    .dataframe tbody tr th:only-of-type {\n",
              "        vertical-align: middle;\n",
              "    }\n",
              "\n",
              "    .dataframe tbody tr th {\n",
              "        vertical-align: top;\n",
              "    }\n",
              "\n",
              "    .dataframe thead th {\n",
              "        text-align: right;\n",
              "    }\n",
              "</style>\n",
              "<table border=\"1\" class=\"dataframe\">\n",
              "  <thead>\n",
              "    <tr style=\"text-align: right;\">\n",
              "      <th></th>\n",
              "      <th>name</th>\n",
              "      <th>count</th>\n",
              "    </tr>\n",
              "  </thead>\n",
              "  <tbody>\n",
              "    <tr>\n",
              "      <th>0</th>\n",
              "      <td>Яндекс</td>\n",
              "      <td>181</td>\n",
              "    </tr>\n",
              "  </tbody>\n",
              "</table>\n",
              "</div>"
            ],
            "text/plain": [
              "     name  count\n",
              "0  Яндекс    181"
            ]
          },
          "metadata": {},
          "output_type": "display_data"
        }
      ],
      "source": [
        "# результат запроса\n",
        "result_12 = pd.read_sql_query(query_12, connection)\n",
        "display(result_12)"
      ]
    },
    {
      "cell_type": "markdown",
      "id": "8cdd3a76",
      "metadata": {},
      "source": [
        "#### Компания Яндекс является компанией, которая собирает соискателей из самого большого количества регионов (181 регион).\n",
        "#### Почему именно Яндекс? Мы уже знаем, что у Яндекса самое большое количество вакансий в нашей таблице. То есть, Яндексу постоянно нужны новые сотрудники в IT-индустрии. Поэтому Яндекс набирает своих сотрудников со всего мира."
      ]
    },
    {
      "cell_type": "markdown",
      "id": "eab2206d-d95b-468b-8e5f-34381abf0ce7",
      "metadata": {
        "id": "eab2206d-d95b-468b-8e5f-34381abf0ce7"
      },
      "source": [
        "4. Напишите запрос для подсчёта количества работодателей, у которых не указана сфера деятельности. "
      ]
    },
    {
      "cell_type": "code",
      "execution_count": 28,
      "id": "80defb23-bfb1-4a18-8be6-bf36aa7165d5",
      "metadata": {
        "id": "80defb23-bfb1-4a18-8be6-bf36aa7165d5"
      },
      "outputs": [],
      "source": [
        "# текст запроса\n",
        "query_13 = f'''select count(distinct e.id) as is_null\n",
        "            from employers_industries e_i\n",
        "            right join employers e on e.id = e_i.employer_id \n",
        "            where e_i.industry_id is null\n",
        "            ''' "
      ]
    },
    {
      "cell_type": "code",
      "execution_count": 29,
      "id": "Dp_yCx6ysQSu",
      "metadata": {
        "id": "Dp_yCx6ysQSu"
      },
      "outputs": [
        {
          "name": "stderr",
          "output_type": "stream",
          "text": [
            "C:\\Users\\79654\\AppData\\Local\\Temp\\ipykernel_21948\\890221114.py:2: UserWarning: pandas only supports SQLAlchemy connectable (engine/connection) or database string URI or sqlite3 DBAPI2 connection. Other DBAPI2 objects are not tested. Please consider using SQLAlchemy.\n",
            "  result_13 = pd.read_sql_query(query_13, connection)\n"
          ]
        },
        {
          "data": {
            "text/html": [
              "<div>\n",
              "<style scoped>\n",
              "    .dataframe tbody tr th:only-of-type {\n",
              "        vertical-align: middle;\n",
              "    }\n",
              "\n",
              "    .dataframe tbody tr th {\n",
              "        vertical-align: top;\n",
              "    }\n",
              "\n",
              "    .dataframe thead th {\n",
              "        text-align: right;\n",
              "    }\n",
              "</style>\n",
              "<table border=\"1\" class=\"dataframe\">\n",
              "  <thead>\n",
              "    <tr style=\"text-align: right;\">\n",
              "      <th></th>\n",
              "      <th>is_null</th>\n",
              "    </tr>\n",
              "  </thead>\n",
              "  <tbody>\n",
              "    <tr>\n",
              "      <th>0</th>\n",
              "      <td>8419</td>\n",
              "    </tr>\n",
              "  </tbody>\n",
              "</table>\n",
              "</div>"
            ],
            "text/plain": [
              "   is_null\n",
              "0     8419"
            ]
          },
          "metadata": {},
          "output_type": "display_data"
        }
      ],
      "source": [
        "# результат запроса\n",
        "result_13 = pd.read_sql_query(query_13, connection)\n",
        "display(result_13)"
      ]
    },
    {
      "cell_type": "markdown",
      "id": "7b37f9b5",
      "metadata": {},
      "source": [
        "#### В нашей таблице у 35% работадателей не указана сфера деятельности.\n",
        "#### Почему некоторые не указывают сферу деятельности? Возможно не все работадатели являются крупными компаниями, которые должны указывать сферу деятельности, но это всё равно не оправдывает, того что один из трёх работадателей не указывает сферу деятельности.\n",
        "#### Я считаю, что для ответа на этот вопрос нужно дополнительное исследование, для того, чтобы понять, компании какого типа зачастую не указывают сферу деятельности или найти взаимосвязь между признаками компаний, которые не указывают сферу деятельности."
      ]
    },
    {
      "cell_type": "markdown",
      "id": "0112af31-f6b0-4e3b-82ab-71296e752e5e",
      "metadata": {
        "id": "0112af31-f6b0-4e3b-82ab-71296e752e5e"
      },
      "source": [
        "5. Напишите запрос, чтобы узнать название компании, находящейся на третьем месте в алфавитном списке (по названию) компаний, у которых указано четыре сферы деятельности. "
      ]
    },
    {
      "cell_type": "code",
      "execution_count": 30,
      "id": "973b0cfc-a972-470a-8b4a-68744ef220c4",
      "metadata": {
        "id": "973b0cfc-a972-470a-8b4a-68744ef220c4"
      },
      "outputs": [],
      "source": [
        "# текст запроса\n",
        "query_14 = f'''select e.name\n",
        "            from employers_industries e_i\n",
        "            right join employers e on e.id = e_i.employer_id \n",
        "            group by 1\n",
        "            having count(e_i.industry_id) = 4\n",
        "            order by e.name asc\n",
        "            offset 2 limit 1\n",
        "            ''' "
      ]
    },
    {
      "cell_type": "code",
      "execution_count": 31,
      "id": "xsPtpp8EsaED",
      "metadata": {
        "id": "xsPtpp8EsaED"
      },
      "outputs": [
        {
          "name": "stderr",
          "output_type": "stream",
          "text": [
            "C:\\Users\\79654\\AppData\\Local\\Temp\\ipykernel_21948\\659724651.py:2: UserWarning: pandas only supports SQLAlchemy connectable (engine/connection) or database string URI or sqlite3 DBAPI2 connection. Other DBAPI2 objects are not tested. Please consider using SQLAlchemy.\n",
            "  result_14 = pd.read_sql_query(query_14, connection)\n"
          ]
        },
        {
          "data": {
            "text/html": [
              "<div>\n",
              "<style scoped>\n",
              "    .dataframe tbody tr th:only-of-type {\n",
              "        vertical-align: middle;\n",
              "    }\n",
              "\n",
              "    .dataframe tbody tr th {\n",
              "        vertical-align: top;\n",
              "    }\n",
              "\n",
              "    .dataframe thead th {\n",
              "        text-align: right;\n",
              "    }\n",
              "</style>\n",
              "<table border=\"1\" class=\"dataframe\">\n",
              "  <thead>\n",
              "    <tr style=\"text-align: right;\">\n",
              "      <th></th>\n",
              "      <th>name</th>\n",
              "    </tr>\n",
              "  </thead>\n",
              "  <tbody>\n",
              "    <tr>\n",
              "      <th>0</th>\n",
              "      <td>2ГИС</td>\n",
              "    </tr>\n",
              "  </tbody>\n",
              "</table>\n",
              "</div>"
            ],
            "text/plain": [
              "   name\n",
              "0  2ГИС"
            ]
          },
          "metadata": {},
          "output_type": "display_data"
        }
      ],
      "source": [
        "# результат запроса\n",
        "result_14 = pd.read_sql_query(query_14, connection)\n",
        "display(result_14)"
      ]
    },
    {
      "cell_type": "markdown",
      "id": "eef1cf28",
      "metadata": {},
      "source": [
        "#### Про эту компанию я могу сказать только то, что она указала четыре сферы деятельности, что может значит, что эта компания сразу даёт всем понять чем конкретно она занимается."
      ]
    },
    {
      "cell_type": "markdown",
      "id": "3bfcfdaf-755d-4d2b-8ed8-326201dc07ab",
      "metadata": {
        "id": "3bfcfdaf-755d-4d2b-8ed8-326201dc07ab"
      },
      "source": [
        "6. С помощью запроса выясните, у какого количества работодателей в качестве сферы деятельности указана Разработка программного обеспечения.\n"
      ]
    },
    {
      "cell_type": "code",
      "execution_count": 32,
      "id": "ad3f270f-2991-47eb-929b-e8f88a55b0d1",
      "metadata": {
        "id": "ad3f270f-2991-47eb-929b-e8f88a55b0d1"
      },
      "outputs": [],
      "source": [
        "# текст запроса\n",
        "query_15 = f'''select count(e.name)\n",
        "            from employers_industries e_i\n",
        "            right join employers e on e.id = e_i.employer_id\n",
        "            right join industries i on i.id = e_i.industry_id\n",
        "            where i.name = 'Разработка программного обеспечения'\n",
        "            '''"
      ]
    },
    {
      "cell_type": "code",
      "execution_count": 33,
      "id": "H72qxWM0shPR",
      "metadata": {
        "id": "H72qxWM0shPR"
      },
      "outputs": [
        {
          "name": "stderr",
          "output_type": "stream",
          "text": [
            "C:\\Users\\79654\\AppData\\Local\\Temp\\ipykernel_21948\\73911374.py:2: UserWarning: pandas only supports SQLAlchemy connectable (engine/connection) or database string URI or sqlite3 DBAPI2 connection. Other DBAPI2 objects are not tested. Please consider using SQLAlchemy.\n",
            "  result_15 = pd.read_sql_query(query_15, connection)\n"
          ]
        },
        {
          "data": {
            "text/html": [
              "<div>\n",
              "<style scoped>\n",
              "    .dataframe tbody tr th:only-of-type {\n",
              "        vertical-align: middle;\n",
              "    }\n",
              "\n",
              "    .dataframe tbody tr th {\n",
              "        vertical-align: top;\n",
              "    }\n",
              "\n",
              "    .dataframe thead th {\n",
              "        text-align: right;\n",
              "    }\n",
              "</style>\n",
              "<table border=\"1\" class=\"dataframe\">\n",
              "  <thead>\n",
              "    <tr style=\"text-align: right;\">\n",
              "      <th></th>\n",
              "      <th>count</th>\n",
              "    </tr>\n",
              "  </thead>\n",
              "  <tbody>\n",
              "    <tr>\n",
              "      <th>0</th>\n",
              "      <td>3553</td>\n",
              "    </tr>\n",
              "  </tbody>\n",
              "</table>\n",
              "</div>"
            ],
            "text/plain": [
              "   count\n",
              "0   3553"
            ]
          },
          "metadata": {},
          "output_type": "display_data"
        }
      ],
      "source": [
        "# результат запроса\n",
        "result_15 = pd.read_sql_query(query_15, connection)\n",
        "display(result_15)"
      ]
    },
    {
      "cell_type": "code",
      "execution_count": 34,
      "id": "d02baf40",
      "metadata": {},
      "outputs": [
        {
          "name": "stderr",
          "output_type": "stream",
          "text": [
            "C:\\Users\\79654\\AppData\\Local\\Temp\\ipykernel_21948\\488777743.py:10: UserWarning: pandas only supports SQLAlchemy connectable (engine/connection) or database string URI or sqlite3 DBAPI2 connection. Other DBAPI2 objects are not tested. Please consider using SQLAlchemy.\n",
            "  result = pd.read_sql_query(query, connection)\n"
          ]
        },
        {
          "data": {
            "text/html": [
              "<div>\n",
              "<style scoped>\n",
              "    .dataframe tbody tr th:only-of-type {\n",
              "        vertical-align: middle;\n",
              "    }\n",
              "\n",
              "    .dataframe tbody tr th {\n",
              "        vertical-align: top;\n",
              "    }\n",
              "\n",
              "    .dataframe thead th {\n",
              "        text-align: right;\n",
              "    }\n",
              "</style>\n",
              "<table border=\"1\" class=\"dataframe\">\n",
              "  <thead>\n",
              "    <tr style=\"text-align: right;\">\n",
              "      <th></th>\n",
              "      <th>name</th>\n",
              "      <th>count</th>\n",
              "    </tr>\n",
              "  </thead>\n",
              "  <tbody>\n",
              "    <tr>\n",
              "      <th>0</th>\n",
              "      <td>Разработка программного обеспечения</td>\n",
              "      <td>3553</td>\n",
              "    </tr>\n",
              "    <tr>\n",
              "      <th>1</th>\n",
              "      <td>Системная интеграция,  автоматизации технологи...</td>\n",
              "      <td>2993</td>\n",
              "    </tr>\n",
              "    <tr>\n",
              "      <th>2</th>\n",
              "      <td>Интернет-компания (поисковики, платежные систе...</td>\n",
              "      <td>1675</td>\n",
              "    </tr>\n",
              "    <tr>\n",
              "      <th>3</th>\n",
              "      <td>Маркетинговые, рекламные, BTL, дизайнерские, E...</td>\n",
              "      <td>798</td>\n",
              "    </tr>\n",
              "    <tr>\n",
              "      <th>4</th>\n",
              "      <td>Консалтинговые услуги</td>\n",
              "      <td>662</td>\n",
              "    </tr>\n",
              "    <tr>\n",
              "      <th>...</th>\n",
              "      <td>...</td>\n",
              "      <td>...</td>\n",
              "    </tr>\n",
              "    <tr>\n",
              "      <th>289</th>\n",
              "      <td>Лифтовое хозяйство (монтаж, сервис, ремонт)</td>\n",
              "      <td>4</td>\n",
              "    </tr>\n",
              "    <tr>\n",
              "      <th>290</th>\n",
              "      <td>Ритуальные услуги</td>\n",
              "      <td>4</td>\n",
              "    </tr>\n",
              "    <tr>\n",
              "      <th>291</th>\n",
              "      <td>Ботанический сад, зоопарк, заповедник</td>\n",
              "      <td>3</td>\n",
              "    </tr>\n",
              "    <tr>\n",
              "      <th>292</th>\n",
              "      <td>Автошкола</td>\n",
              "      <td>3</td>\n",
              "    </tr>\n",
              "    <tr>\n",
              "      <th>293</th>\n",
              "      <td>Ассоциация в сфере культуры, искусства</td>\n",
              "      <td>1</td>\n",
              "    </tr>\n",
              "  </tbody>\n",
              "</table>\n",
              "<p>294 rows × 2 columns</p>\n",
              "</div>"
            ],
            "text/plain": [
              "                                                  name  count\n",
              "0                  Разработка программного обеспечения   3553\n",
              "1    Системная интеграция,  автоматизации технологи...   2993\n",
              "2    Интернет-компания (поисковики, платежные систе...   1675\n",
              "3    Маркетинговые, рекламные, BTL, дизайнерские, E...    798\n",
              "4                                Консалтинговые услуги    662\n",
              "..                                                 ...    ...\n",
              "289        Лифтовое хозяйство (монтаж, сервис, ремонт)      4\n",
              "290                                  Ритуальные услуги      4\n",
              "291              Ботанический сад, зоопарк, заповедник      3\n",
              "292                                          Автошкола      3\n",
              "293             Ассоциация в сфере культуры, искусства      1\n",
              "\n",
              "[294 rows x 2 columns]"
            ]
          },
          "metadata": {},
          "output_type": "display_data"
        }
      ],
      "source": [
        "query = f'''select i.name,\n",
        "                count(e.id)\n",
        "            from employers_industries e_i\n",
        "            right join employers e on e.id = e_i.employer_id\n",
        "            right join industries i on i.id = e_i.industry_id\n",
        "            group by 1\n",
        "            order by 2 desc\n",
        "            '''\n",
        "            \n",
        "result = pd.read_sql_query(query, connection)\n",
        "display(result)"
      ]
    },
    {
      "cell_type": "markdown",
      "id": "009cc532",
      "metadata": {},
      "source": [
        "#### В наших данных саммой многочисленной сферой деятельности является \"Разработка программного обеспечения\" (3553 тыс. вакансий), из этого можно сделать вывод, что с каждым годом всё большему количеству компаний нужны приложения и сайты, а также люди, которые их создают."
      ]
    },
    {
      "cell_type": "markdown",
      "id": "7b02bb86-0546-40fb-94a4-242f050a5c57",
      "metadata": {
        "id": "7b02bb86-0546-40fb-94a4-242f050a5c57"
      },
      "source": [
        "7. Для компании «Яндекс» выведите список регионов-миллионников, в которых представлены вакансии компании, вместе с количеством вакансий в этих регионах. Также добавьте строку Total с общим количеством вакансий компании. Результат отсортируйте по возрастанию количества.\n",
        "\n",
        "Список городов-милионников надо взять [отсюда](https://ru.wikipedia.org/wiki/%D0%93%D0%BE%D1%80%D0%BE%D0%B4%D0%B0-%D0%BC%D0%B8%D0%BB%D0%BB%D0%B8%D0%BE%D0%BD%D0%B5%D1%80%D1%8B_%D0%A0%D0%BE%D1%81%D1%81%D0%B8%D0%B8). \n",
        "\n",
        "Если возникнут трудности с этим задание посмотрите материалы модуля  PYTHON-17. Как получать данные из веб-источников и API. "
      ]
    },
    {
      "cell_type": "code",
      "execution_count": 35,
      "id": "ZdfrL6gIs1Pn",
      "metadata": {
        "id": "ZdfrL6gIs1Pn"
      },
      "outputs": [
        {
          "data": {
            "text/plain": [
              "'https://ru.wikipedia.org/wiki/%D0%93%D0%BE%D1%80%D0%BE%D0%B4%D0%B0-%D0%BC%D0%B8%D0%BB%D0%BB%D0%B8%D0%BE%D0%BD%D0%B5%D1%80%D1%8B_%D0%A0%D0%BE%D1%81%D1%81%D0%B8%D0%B8#%D0%A1%D0%BF%D0%B8%D1%81%D0%BE%D0%BA_%D0%93%D0%BE%D1%80%D0%BE%D0%B4%D0%BE%D0%B2_%D0%9C%D0%B8%D0%BB%D0%BB%D0%B8%D0%BE%D0%BD%D0%B5%D1%80%D0%BE%D0%B2'"
            ]
          },
          "execution_count": 35,
          "metadata": {},
          "output_type": "execute_result"
        }
      ],
      "source": [
        "import urllib.parse as req # Импортируем библиотеку requests\n",
        "path_common = req.urlparse('https://ru.wikipedia.org/wiki/Города-миллионеры_России#Список_Городов_Миллионеров') # Определяем адрес страницы\n",
        "url = path_common.scheme + '://' + req.quote(path_common.netloc) +  req.quote(path_common.path) + '#'+ req.quote(path_common.fragment) # Создаём ссылку\n",
        "\n",
        "url"
      ]
    },
    {
      "cell_type": "code",
      "execution_count": 36,
      "id": "604f662c",
      "metadata": {},
      "outputs": [
        {
          "name": "stdout",
          "output_type": "stream",
          "text": [
            "('Москва', 'Санкт-Петербург', 'Новосибирск', 'Екатеринбург', 'Казань', 'Нижний Новгород', 'Красноярск', 'Челябинск', 'Самара', 'Уфа', 'Ростов-на-Дону', 'Краснодар', 'Омск', 'Воронеж', 'Пермь', 'Волгоград')\n"
          ]
        }
      ],
      "source": [
        "table = pd.read_html('https://ru.wikipedia.org/wiki/%D0%93%D0%BE%D1%80%D0%BE%D0%B4%D0%B0-%D0%BC%D0%B8%D0%BB%D0%BB%D0%B8%D0%BE%D0%BD%D0%B5%D1%80%D1%8B_%D0%A0%D0%BE%D1%81%D1%81%D0%B8%D0%B8#%D0%A1%D0%BF%D0%B8%D1%81%D0%BE%D0%BA_%D0%93%D0%BE%D1%80%D0%BE%D0%B4%D0%BE%D0%B2_%D0%9C%D0%B8%D0%BB%D0%BB%D0%B8%D0%BE%D0%BD%D0%B5%D1%80%D0%BE%D0%B2')\n",
        "df = table[1]\n",
        "\n",
        "cities = tuple(df['Город'])\n",
        "print(cities)"
      ]
    },
    {
      "cell_type": "markdown",
      "id": "f2fe0acb-ab1a-4e15-9326-2560e22d73c1",
      "metadata": {
        "id": "f2fe0acb-ab1a-4e15-9326-2560e22d73c1"
      },
      "source": [
        "3. Для каждого работодателя посчитайте количество регионов, в которых он публикует свои вакансии. Отсортируйте результат по убыванию количества.\n"
      ]
    },
    {
      "cell_type": "code",
      "execution_count": 37,
      "id": "5a0e32a4-e68a-4365-8a39-2fe24c542c36",
      "metadata": {
        "id": "5a0e32a4-e68a-4365-8a39-2fe24c542c36"
      },
      "outputs": [],
      "source": [
        "# текст запроса\n",
        "query_16 = f'''with x as\n",
        "                (\n",
        "               select a.name,\n",
        "                    count(v.id) as cnt\n",
        "            from employers_industries e_i\n",
        "            right join employers e on e.id = e_i.employer_id\n",
        "            right join industries i on i.id = e_i.industry_id\n",
        "            join vacancies v on v.employer_id = e_i.employer_id\n",
        "            join areas a on a.id = v.area_id\n",
        "            where e.name = 'Яндекс' and a.name in {cities}\n",
        "            group by 1\n",
        "            order by 2 desc\n",
        "            )\n",
        "            \n",
        "            select *\n",
        "            from x\n",
        "            \n",
        "            union all\n",
        "            \n",
        "            select 'total', sum(cnt)\n",
        "            from x\n",
        "            '''"
      ]
    },
    {
      "cell_type": "code",
      "execution_count": 38,
      "id": "ttPhiO1rsvPq",
      "metadata": {
        "id": "ttPhiO1rsvPq"
      },
      "outputs": [
        {
          "name": "stderr",
          "output_type": "stream",
          "text": [
            "C:\\Users\\79654\\AppData\\Local\\Temp\\ipykernel_21948\\3681598448.py:2: UserWarning: pandas only supports SQLAlchemy connectable (engine/connection) or database string URI or sqlite3 DBAPI2 connection. Other DBAPI2 objects are not tested. Please consider using SQLAlchemy.\n",
            "  result_16 = pd.read_sql_query(query_16, connection)\n"
          ]
        },
        {
          "data": {
            "text/html": [
              "<div>\n",
              "<style scoped>\n",
              "    .dataframe tbody tr th:only-of-type {\n",
              "        vertical-align: middle;\n",
              "    }\n",
              "\n",
              "    .dataframe tbody tr th {\n",
              "        vertical-align: top;\n",
              "    }\n",
              "\n",
              "    .dataframe thead th {\n",
              "        text-align: right;\n",
              "    }\n",
              "</style>\n",
              "<table border=\"1\" class=\"dataframe\">\n",
              "  <thead>\n",
              "    <tr style=\"text-align: right;\">\n",
              "      <th></th>\n",
              "      <th>name</th>\n",
              "      <th>cnt</th>\n",
              "    </tr>\n",
              "  </thead>\n",
              "  <tbody>\n",
              "    <tr>\n",
              "      <th>0</th>\n",
              "      <td>Москва</td>\n",
              "      <td>54.0</td>\n",
              "    </tr>\n",
              "    <tr>\n",
              "      <th>1</th>\n",
              "      <td>Санкт-Петербург</td>\n",
              "      <td>42.0</td>\n",
              "    </tr>\n",
              "    <tr>\n",
              "      <th>2</th>\n",
              "      <td>Екатеринбург</td>\n",
              "      <td>39.0</td>\n",
              "    </tr>\n",
              "    <tr>\n",
              "      <th>3</th>\n",
              "      <td>Нижний Новгород</td>\n",
              "      <td>36.0</td>\n",
              "    </tr>\n",
              "    <tr>\n",
              "      <th>4</th>\n",
              "      <td>Новосибирск</td>\n",
              "      <td>35.0</td>\n",
              "    </tr>\n",
              "    <tr>\n",
              "      <th>5</th>\n",
              "      <td>Воронеж</td>\n",
              "      <td>32.0</td>\n",
              "    </tr>\n",
              "    <tr>\n",
              "      <th>6</th>\n",
              "      <td>Краснодар</td>\n",
              "      <td>30.0</td>\n",
              "    </tr>\n",
              "    <tr>\n",
              "      <th>7</th>\n",
              "      <td>Самара</td>\n",
              "      <td>26.0</td>\n",
              "    </tr>\n",
              "    <tr>\n",
              "      <th>8</th>\n",
              "      <td>Уфа</td>\n",
              "      <td>26.0</td>\n",
              "    </tr>\n",
              "    <tr>\n",
              "      <th>9</th>\n",
              "      <td>Казань</td>\n",
              "      <td>25.0</td>\n",
              "    </tr>\n",
              "    <tr>\n",
              "      <th>10</th>\n",
              "      <td>Пермь</td>\n",
              "      <td>25.0</td>\n",
              "    </tr>\n",
              "    <tr>\n",
              "      <th>11</th>\n",
              "      <td>Ростов-на-Дону</td>\n",
              "      <td>25.0</td>\n",
              "    </tr>\n",
              "    <tr>\n",
              "      <th>12</th>\n",
              "      <td>Волгоград</td>\n",
              "      <td>24.0</td>\n",
              "    </tr>\n",
              "    <tr>\n",
              "      <th>13</th>\n",
              "      <td>Красноярск</td>\n",
              "      <td>23.0</td>\n",
              "    </tr>\n",
              "    <tr>\n",
              "      <th>14</th>\n",
              "      <td>Челябинск</td>\n",
              "      <td>22.0</td>\n",
              "    </tr>\n",
              "    <tr>\n",
              "      <th>15</th>\n",
              "      <td>Омск</td>\n",
              "      <td>21.0</td>\n",
              "    </tr>\n",
              "    <tr>\n",
              "      <th>16</th>\n",
              "      <td>total</td>\n",
              "      <td>485.0</td>\n",
              "    </tr>\n",
              "  </tbody>\n",
              "</table>\n",
              "</div>"
            ],
            "text/plain": [
              "               name    cnt\n",
              "0            Москва   54.0\n",
              "1   Санкт-Петербург   42.0\n",
              "2      Екатеринбург   39.0\n",
              "3   Нижний Новгород   36.0\n",
              "4       Новосибирск   35.0\n",
              "5           Воронеж   32.0\n",
              "6         Краснодар   30.0\n",
              "7            Самара   26.0\n",
              "8               Уфа   26.0\n",
              "9            Казань   25.0\n",
              "10            Пермь   25.0\n",
              "11   Ростов-на-Дону   25.0\n",
              "12        Волгоград   24.0\n",
              "13       Красноярск   23.0\n",
              "14        Челябинск   22.0\n",
              "15             Омск   21.0\n",
              "16            total  485.0"
            ]
          },
          "metadata": {},
          "output_type": "display_data"
        }
      ],
      "source": [
        "# результат запроса\n",
        "result_16 = pd.read_sql_query(query_16, connection)\n",
        "display(result_16)"
      ]
    },
    {
      "cell_type": "markdown",
      "id": "04966e40-3bc3-4dc8-9ba2-e80580ce3abc",
      "metadata": {
        "id": "04966e40-3bc3-4dc8-9ba2-e80580ce3abc"
      },
      "source": [
        "***"
      ]
    },
    {
      "cell_type": "markdown",
      "id": "3a4a0414",
      "metadata": {},
      "source": [
        "#### В Москве самое большое количество вакансий компании Яндекс из всех российских городов-миллионников.\n",
        "#### 485 это общее количество вакансий в российских городах-миллионников, всего у Яндекса 1993 вакансии на hh.ru, то есть в городах-миллионниках сосредоточено всего 25% от всего количества вакансий этой компании."
      ]
    },
    {
      "cell_type": "markdown",
      "id": "ff51aa3d",
      "metadata": {},
      "source": [
        "### Выводы по анализу работадателей\n",
        "#### Компанией с самым большим количеством вакансий и регионов является \"Яндекс\".\n",
        "#### У 35% работадателей не указана сфера деятельности.\n",
        "#### Самой многочисленной сферой деятельности является \"Разработка программного обеспечения\""
      ]
    },
    {
      "cell_type": "markdown",
      "id": "b1ef156a-efcb-49ce-bb23-90763e7f35b2",
      "metadata": {
        "id": "b1ef156a-efcb-49ce-bb23-90763e7f35b2",
        "tags": []
      },
      "source": [
        "# Юнит 6. Предметный анализ"
      ]
    },
    {
      "cell_type": "markdown",
      "id": "b9cd50a0-992d-4988-8463-2b2b1c4629b4",
      "metadata": {
        "id": "b9cd50a0-992d-4988-8463-2b2b1c4629b4"
      },
      "source": [
        "1. Сколько вакансий имеет отношение к данным?\n",
        "\n",
        "Считаем, что вакансия имеет отношение к данным, если в её названии содержатся слова 'data' или 'данн'.\n",
        "\n",
        "*Подсказка: Обратите внимание, что названия вакансий могут быть написаны в любом регистре.* \n"
      ]
    },
    {
      "cell_type": "code",
      "execution_count": 39,
      "id": "54ab0e50-c0f1-47cc-a54b-bc5c8bc363f9",
      "metadata": {
        "id": "54ab0e50-c0f1-47cc-a54b-bc5c8bc363f9"
      },
      "outputs": [],
      "source": [
        "# текст запроса\n",
        "query_17 = f'''select count(v.name)\n",
        "            from vacancies v\n",
        "            where v.name like upper('%data%') or v.name like '%data%' or v.name like upper('%данн%') or v.name like '%данн%' or v.name like '%Данн%' or v.name like '%Data%'\n",
        "            '''"
      ]
    },
    {
      "cell_type": "code",
      "execution_count": 40,
      "id": "9F1meAqsuUjd",
      "metadata": {
        "id": "9F1meAqsuUjd"
      },
      "outputs": [
        {
          "name": "stderr",
          "output_type": "stream",
          "text": [
            "C:\\Users\\79654\\AppData\\Local\\Temp\\ipykernel_21948\\1007169700.py:2: UserWarning: pandas only supports SQLAlchemy connectable (engine/connection) or database string URI or sqlite3 DBAPI2 connection. Other DBAPI2 objects are not tested. Please consider using SQLAlchemy.\n",
            "  result_17 = pd.read_sql_query(query_17, connection)\n"
          ]
        },
        {
          "data": {
            "text/html": [
              "<div>\n",
              "<style scoped>\n",
              "    .dataframe tbody tr th:only-of-type {\n",
              "        vertical-align: middle;\n",
              "    }\n",
              "\n",
              "    .dataframe tbody tr th {\n",
              "        vertical-align: top;\n",
              "    }\n",
              "\n",
              "    .dataframe thead th {\n",
              "        text-align: right;\n",
              "    }\n",
              "</style>\n",
              "<table border=\"1\" class=\"dataframe\">\n",
              "  <thead>\n",
              "    <tr style=\"text-align: right;\">\n",
              "      <th></th>\n",
              "      <th>count</th>\n",
              "    </tr>\n",
              "  </thead>\n",
              "  <tbody>\n",
              "    <tr>\n",
              "      <th>0</th>\n",
              "      <td>1771</td>\n",
              "    </tr>\n",
              "  </tbody>\n",
              "</table>\n",
              "</div>"
            ],
            "text/plain": [
              "   count\n",
              "0   1771"
            ]
          },
          "metadata": {},
          "output_type": "display_data"
        }
      ],
      "source": [
        "# результат запроса\n",
        "result_17 = pd.read_sql_query(query_17, connection)\n",
        "display(result_17)"
      ]
    },
    {
      "cell_type": "markdown",
      "id": "758515e8",
      "metadata": {},
      "source": [
        "#### 1771 это количество вакансий, которые относятся к работе с данными, суда входят все профессии в названии, которых упоминаются приставки \"Data\" и \"Данн.\""
      ]
    },
    {
      "cell_type": "markdown",
      "id": "4dea20cb-a36b-474a-a0b9-e08e8e3857a5",
      "metadata": {
        "id": "4dea20cb-a36b-474a-a0b9-e08e8e3857a5"
      },
      "source": [
        "2. Сколько есть подходящих вакансий для начинающего дата-сайентиста? \n",
        "Будем считать вакансиями для дата-сайентистов такие, в названии которых есть хотя бы одно из следующих сочетаний:\n",
        "* 'data scientist'\n",
        "* 'data science'\n",
        "* 'исследователь данных'\n",
        "* 'ML' (здесь не нужно брать вакансии по HTML)\n",
        "* 'machine learning'\n",
        "* 'машинн%обучен%'\n",
        "\n",
        "** В следующих заданиях мы продолжим работать с вакансиями по этому условию.*\n",
        "\n",
        "Считаем вакансиями для специалистов уровня Junior следующие:\n",
        "* в названии есть слово 'junior' *или*\n",
        "* требуемый опыт — Нет опыта *или*\n",
        "* тип трудоустройства — Стажировка.\n",
        " "
      ]
    },
    {
      "cell_type": "code",
      "execution_count": 41,
      "id": "9c61b3c0-bb66-46c9-ae1e-81d3f5752b4a",
      "metadata": {
        "id": "9c61b3c0-bb66-46c9-ae1e-81d3f5752b4a"
      },
      "outputs": [],
      "source": [
        "# текст запроса\n",
        "query_18 = f'''select count(v.name)\n",
        "            from vacancies v\n",
        "            where (v.name ilike '%data scientist%' or v.name ilike '%data science%'\n",
        "            or v.name ilike '%исследователь данных%' or (v.name like '%ML%' and v.name not ilike '%HTML%')\n",
        "            or v.name ilike '%machine learning%' or v.name ilike '%машин%обучен%')\n",
        "            and (v.name ilike '%junior%' or v.name like '%Junior%' or v.experience = 'Нет опыта' or v.employment = 'Стажировка')\n",
        "            '''"
      ]
    },
    {
      "cell_type": "code",
      "execution_count": 42,
      "id": "ZNM-LLYuu1dj",
      "metadata": {
        "id": "ZNM-LLYuu1dj"
      },
      "outputs": [
        {
          "name": "stderr",
          "output_type": "stream",
          "text": [
            "C:\\Users\\79654\\AppData\\Local\\Temp\\ipykernel_21948\\2990032066.py:2: UserWarning: pandas only supports SQLAlchemy connectable (engine/connection) or database string URI or sqlite3 DBAPI2 connection. Other DBAPI2 objects are not tested. Please consider using SQLAlchemy.\n",
            "  result_18 = pd.read_sql_query(query_18, connection)\n"
          ]
        },
        {
          "data": {
            "text/html": [
              "<div>\n",
              "<style scoped>\n",
              "    .dataframe tbody tr th:only-of-type {\n",
              "        vertical-align: middle;\n",
              "    }\n",
              "\n",
              "    .dataframe tbody tr th {\n",
              "        vertical-align: top;\n",
              "    }\n",
              "\n",
              "    .dataframe thead th {\n",
              "        text-align: right;\n",
              "    }\n",
              "</style>\n",
              "<table border=\"1\" class=\"dataframe\">\n",
              "  <thead>\n",
              "    <tr style=\"text-align: right;\">\n",
              "      <th></th>\n",
              "      <th>count</th>\n",
              "    </tr>\n",
              "  </thead>\n",
              "  <tbody>\n",
              "    <tr>\n",
              "      <th>0</th>\n",
              "      <td>51</td>\n",
              "    </tr>\n",
              "  </tbody>\n",
              "</table>\n",
              "</div>"
            ],
            "text/plain": [
              "   count\n",
              "0     51"
            ]
          },
          "metadata": {},
          "output_type": "display_data"
        }
      ],
      "source": [
        "# результат запроса\n",
        "result_18 = pd.read_sql_query(query_18, connection)\n",
        "display(result_18)"
      ]
    },
    {
      "cell_type": "code",
      "execution_count": 43,
      "id": "6aa48a6d",
      "metadata": {},
      "outputs": [
        {
          "name": "stderr",
          "output_type": "stream",
          "text": [
            "C:\\Users\\79654\\AppData\\Local\\Temp\\ipykernel_21948\\570114667.py:8: UserWarning: pandas only supports SQLAlchemy connectable (engine/connection) or database string URI or sqlite3 DBAPI2 connection. Other DBAPI2 objects are not tested. Please consider using SQLAlchemy.\n",
            "  result = pd.read_sql_query(query, connection)\n"
          ]
        },
        {
          "data": {
            "text/html": [
              "<div>\n",
              "<style scoped>\n",
              "    .dataframe tbody tr th:only-of-type {\n",
              "        vertical-align: middle;\n",
              "    }\n",
              "\n",
              "    .dataframe tbody tr th {\n",
              "        vertical-align: top;\n",
              "    }\n",
              "\n",
              "    .dataframe thead th {\n",
              "        text-align: right;\n",
              "    }\n",
              "</style>\n",
              "<table border=\"1\" class=\"dataframe\">\n",
              "  <thead>\n",
              "    <tr style=\"text-align: right;\">\n",
              "      <th></th>\n",
              "      <th>count</th>\n",
              "    </tr>\n",
              "  </thead>\n",
              "  <tbody>\n",
              "    <tr>\n",
              "      <th>0</th>\n",
              "      <td>480</td>\n",
              "    </tr>\n",
              "  </tbody>\n",
              "</table>\n",
              "</div>"
            ],
            "text/plain": [
              "   count\n",
              "0    480"
            ]
          },
          "metadata": {},
          "output_type": "display_data"
        }
      ],
      "source": [
        "# Это доп. код, чтобы узнать сколько всего дата саинтестов любого уровня есть у нас в таблице \n",
        "query = f'''select count(v.name)\n",
        "            from vacancies v\n",
        "            where (v.name ilike '%data scientist%' or v.name ilike '%data science%'\n",
        "            or v.name ilike '%исследователь данных%' or (v.name like '%ML%' and v.name not ilike '%HTML%')\n",
        "            or v.name ilike '%machine learning%' or v.name ilike '%машин%обучен%')\n",
        "            '''\n",
        "result = pd.read_sql_query(query, connection)\n",
        "display(result)"
      ]
    },
    {
      "cell_type": "code",
      "execution_count": 44,
      "id": "c408b9d6",
      "metadata": {},
      "outputs": [
        {
          "name": "stderr",
          "output_type": "stream",
          "text": [
            "C:\\Users\\79654\\AppData\\Local\\Temp\\ipykernel_21948\\1929665792.py:9: UserWarning: pandas only supports SQLAlchemy connectable (engine/connection) or database string URI or sqlite3 DBAPI2 connection. Other DBAPI2 objects are not tested. Please consider using SQLAlchemy.\n",
            "  result = pd.read_sql_query(query, connection)\n"
          ]
        },
        {
          "data": {
            "text/html": [
              "<div>\n",
              "<style scoped>\n",
              "    .dataframe tbody tr th:only-of-type {\n",
              "        vertical-align: middle;\n",
              "    }\n",
              "\n",
              "    .dataframe tbody tr th {\n",
              "        vertical-align: top;\n",
              "    }\n",
              "\n",
              "    .dataframe thead th {\n",
              "        text-align: right;\n",
              "    }\n",
              "</style>\n",
              "<table border=\"1\" class=\"dataframe\">\n",
              "  <thead>\n",
              "    <tr style=\"text-align: right;\">\n",
              "      <th></th>\n",
              "      <th>count</th>\n",
              "    </tr>\n",
              "  </thead>\n",
              "  <tbody>\n",
              "    <tr>\n",
              "      <th>0</th>\n",
              "      <td>251</td>\n",
              "    </tr>\n",
              "  </tbody>\n",
              "</table>\n",
              "</div>"
            ],
            "text/plain": [
              "   count\n",
              "0    251"
            ]
          },
          "metadata": {},
          "output_type": "display_data"
        }
      ],
      "source": [
        "# Этот код для того, чтобы посчитать дата саинтестов с без опыта работы и с опытом работы от 1 года до трех лет\n",
        "query = f'''select count(v.name)\n",
        "            from vacancies v\n",
        "            where (v.name ilike '%data scientist%' or v.name ilike '%data science%'\n",
        "            or v.name ilike '%исследователь данных%' or (v.name like '%ML%' and v.name not ilike '%HTML%')\n",
        "            or v.name ilike '%machine learning%' or v.name ilike '%машин%обучен%')\n",
        "            and (v.name ilike '%junior%' or v.name like '%Junior%' or v.experience = 'Нет опыта' or v.employment = 'Стажировка' or v.experience = 'От 1 года до 3 лет')\n",
        "            '''\n",
        "result = pd.read_sql_query(query, connection)\n",
        "display(result)        "
      ]
    },
    {
      "cell_type": "markdown",
      "id": "b589f4ec",
      "metadata": {},
      "source": [
        "#### В нашей таблице 51 вакансия на профессию \"Data Scientist\" джуниор уровня, от всех вакансий с работой о данных (1771 вакансия) это состовляет всего 3%, а от всех вакансий по профессии \"Data Scientist\" (480 вакансий) это состовляет 11%, то есть каждый десятый дата саинтест в нашей таблице является джуниором.\n",
        "#### Дата саинтестов джуниор уровня достаточно мало, но это если считать, что джуниор - это дата саинтест без опыта работы, если в эту группу включить дата саинтестов с опытом работы (от 1 года до 3 лет), то количество дата саинтестов джуниор уровня вырастит в пять раз и составит (251 вакансию), теперь каждый второй дата саинтест - джуниор уровня.\n"
      ]
    },
    {
      "cell_type": "markdown",
      "id": "eedceb80-c5ca-480e-b27a-278dfb8b4438",
      "metadata": {
        "id": "eedceb80-c5ca-480e-b27a-278dfb8b4438"
      },
      "source": [
        "3. Сколько есть вакансий для DS, в которых в качестве ключевого навыка указан SQL или postgres?\n",
        "\n",
        "** Критерии для отнесения вакансии к DS указаны в предыдущем задании.*"
      ]
    },
    {
      "cell_type": "code",
      "execution_count": 45,
      "id": "69621713-0cc5-4f1b-a1d7-bb144fa6148c",
      "metadata": {
        "id": "69621713-0cc5-4f1b-a1d7-bb144fa6148c"
      },
      "outputs": [],
      "source": [
        "# текст запроса\n",
        "query_19 = f'''select count(v.name)\n",
        "            from vacancies v\n",
        "            where (v.name ilike '%data scientist%' or v.name ilike '%data science%'\n",
        "            or v.name ilike '%исследователь данных%' or (v.name like '%ML%' and v.name not ilike '%HTML%')\n",
        "            or v.name ilike '%machine learning%' or v.name ilike '%машин%обучен%')\n",
        "            and (v.key_skills ilike '%SQL%' or v.key_skills ilike '%postgres%')\n",
        "            '''"
      ]
    },
    {
      "cell_type": "code",
      "execution_count": 46,
      "id": "alA8WEAAvGdf",
      "metadata": {
        "id": "alA8WEAAvGdf"
      },
      "outputs": [
        {
          "name": "stderr",
          "output_type": "stream",
          "text": [
            "C:\\Users\\79654\\AppData\\Local\\Temp\\ipykernel_21948\\2119383328.py:2: UserWarning: pandas only supports SQLAlchemy connectable (engine/connection) or database string URI or sqlite3 DBAPI2 connection. Other DBAPI2 objects are not tested. Please consider using SQLAlchemy.\n",
            "  result_19 = pd.read_sql_query(query_19, connection)\n"
          ]
        },
        {
          "data": {
            "text/html": [
              "<div>\n",
              "<style scoped>\n",
              "    .dataframe tbody tr th:only-of-type {\n",
              "        vertical-align: middle;\n",
              "    }\n",
              "\n",
              "    .dataframe tbody tr th {\n",
              "        vertical-align: top;\n",
              "    }\n",
              "\n",
              "    .dataframe thead th {\n",
              "        text-align: right;\n",
              "    }\n",
              "</style>\n",
              "<table border=\"1\" class=\"dataframe\">\n",
              "  <thead>\n",
              "    <tr style=\"text-align: right;\">\n",
              "      <th></th>\n",
              "      <th>count</th>\n",
              "    </tr>\n",
              "  </thead>\n",
              "  <tbody>\n",
              "    <tr>\n",
              "      <th>0</th>\n",
              "      <td>201</td>\n",
              "    </tr>\n",
              "  </tbody>\n",
              "</table>\n",
              "</div>"
            ],
            "text/plain": [
              "   count\n",
              "0    201"
            ]
          },
          "metadata": {},
          "output_type": "display_data"
        }
      ],
      "source": [
        "# результат запроса\n",
        "result_19 = pd.read_sql_query(query_19, connection)\n",
        "display(result_19)"
      ]
    },
    {
      "cell_type": "code",
      "execution_count": 47,
      "id": "fbef58df",
      "metadata": {},
      "outputs": [
        {
          "name": "stderr",
          "output_type": "stream",
          "text": [
            "C:\\Users\\79654\\AppData\\Local\\Temp\\ipykernel_21948\\1195968323.py:8: UserWarning: pandas only supports SQLAlchemy connectable (engine/connection) or database string URI or sqlite3 DBAPI2 connection. Other DBAPI2 objects are not tested. Please consider using SQLAlchemy.\n",
            "  result = pd.read_sql_query(query, connection)\n"
          ]
        },
        {
          "data": {
            "text/html": [
              "<div>\n",
              "<style scoped>\n",
              "    .dataframe tbody tr th:only-of-type {\n",
              "        vertical-align: middle;\n",
              "    }\n",
              "\n",
              "    .dataframe tbody tr th {\n",
              "        vertical-align: top;\n",
              "    }\n",
              "\n",
              "    .dataframe thead th {\n",
              "        text-align: right;\n",
              "    }\n",
              "</style>\n",
              "<table border=\"1\" class=\"dataframe\">\n",
              "  <thead>\n",
              "    <tr style=\"text-align: right;\">\n",
              "      <th></th>\n",
              "      <th>count</th>\n",
              "    </tr>\n",
              "  </thead>\n",
              "  <tbody>\n",
              "    <tr>\n",
              "      <th>0</th>\n",
              "      <td>351</td>\n",
              "    </tr>\n",
              "  </tbody>\n",
              "</table>\n",
              "</div>"
            ],
            "text/plain": [
              "   count\n",
              "0    351"
            ]
          },
          "metadata": {},
          "output_type": "display_data"
        }
      ],
      "source": [
        "# количество DS вакансий с ключевым навыком Python\n",
        "query = f'''select count(v.name)\n",
        "            from vacancies v\n",
        "            where (v.name ilike '%data scientist%' or v.name ilike '%data science%'\n",
        "            or v.name ilike '%исследователь данных%' or (v.name like '%ML%' and v.name not ilike '%HTML%')\n",
        "            or v.name ilike '%machine learning%' or v.name ilike '%машин%обучен%')\n",
        "            and (v.key_skills ilike '%python%' or v.key_skills like '%Python%')\n",
        "            '''\n",
        "result = pd.read_sql_query(query, connection)\n",
        "display(result)"
      ]
    },
    {
      "cell_type": "markdown",
      "id": "4cf45694",
      "metadata": {},
      "source": [
        "#### В 201 вакансиях на позицию \"Data Scientist\" работодатели указывают в качестве ключевого навыка владение SQL. \n",
        "#### Однако чаще работодатели указывают в качестве ключевого навыка владение Python. Но почему?\n",
        "#### Умение владеть обоими этими языками программирования одинаково важно. Однако чаще работодатели указывают именно Python, скорее всего потому, что на Python проводится основная часть работы над проектом в профессии \"Data Scientist\", а также освоить базовые понятия SQL легче и быстрее., чем с нуля освоить Python\n",
        "#### Но чаще всего работадатели указывают владение обоими этими языками программирования в своих вакансия, на позицию \"Data Scientest\""
      ]
    },
    {
      "cell_type": "markdown",
      "id": "1be1e9c6-37cf-4a5f-bfeb-04cab799dc80",
      "metadata": {
        "id": "1be1e9c6-37cf-4a5f-bfeb-04cab799dc80"
      },
      "source": [
        "4. Проверьте, насколько популярен Python в требованиях работодателей к DS.Для этого вычислите количество вакансий, в которых в качестве ключевого навыка указан Python.\n",
        "\n",
        "** Это можно сделать помощью запроса, аналогичного предыдущему.*"
      ]
    },
    {
      "cell_type": "code",
      "execution_count": 48,
      "id": "0036a355-9ccf-4564-8b01-73d8194297e7",
      "metadata": {
        "id": "0036a355-9ccf-4564-8b01-73d8194297e7"
      },
      "outputs": [],
      "source": [
        "# текст запроса\n",
        "query_20 = f'''select count(v.name)\n",
        "            from vacancies v\n",
        "            where (v.name ilike '%data scientist%' or v.name ilike '%data science%'\n",
        "            or v.name ilike '%исследователь данных%' or (v.name like '%ML%' and v.name not ilike '%HTML%')\n",
        "            or v.name ilike '%machine learning%' or v.name ilike '%машин%обучен%')\n",
        "            and (v.key_skills like '%python%' or v.key_skills like '%PYTHON%' or v.key_skills ilike '%Python%')\n",
        "            '''"
      ]
    },
    {
      "cell_type": "code",
      "execution_count": 49,
      "id": "1i-5WyucvQ6v",
      "metadata": {
        "id": "1i-5WyucvQ6v"
      },
      "outputs": [
        {
          "name": "stderr",
          "output_type": "stream",
          "text": [
            "C:\\Users\\79654\\AppData\\Local\\Temp\\ipykernel_21948\\3375712033.py:2: UserWarning: pandas only supports SQLAlchemy connectable (engine/connection) or database string URI or sqlite3 DBAPI2 connection. Other DBAPI2 objects are not tested. Please consider using SQLAlchemy.\n",
            "  result_20 = pd.read_sql_query(query_20, connection)\n"
          ]
        },
        {
          "data": {
            "text/html": [
              "<div>\n",
              "<style scoped>\n",
              "    .dataframe tbody tr th:only-of-type {\n",
              "        vertical-align: middle;\n",
              "    }\n",
              "\n",
              "    .dataframe tbody tr th {\n",
              "        vertical-align: top;\n",
              "    }\n",
              "\n",
              "    .dataframe thead th {\n",
              "        text-align: right;\n",
              "    }\n",
              "</style>\n",
              "<table border=\"1\" class=\"dataframe\">\n",
              "  <thead>\n",
              "    <tr style=\"text-align: right;\">\n",
              "      <th></th>\n",
              "      <th>count</th>\n",
              "    </tr>\n",
              "  </thead>\n",
              "  <tbody>\n",
              "    <tr>\n",
              "      <th>0</th>\n",
              "      <td>351</td>\n",
              "    </tr>\n",
              "  </tbody>\n",
              "</table>\n",
              "</div>"
            ],
            "text/plain": [
              "   count\n",
              "0    351"
            ]
          },
          "metadata": {},
          "output_type": "display_data"
        }
      ],
      "source": [
        "# результат запроса\n",
        "result_20 = pd.read_sql_query(query_20, connection)\n",
        "display(result_20)"
      ]
    },
    {
      "cell_type": "markdown",
      "id": "4037fc6a",
      "metadata": {},
      "source": [
        "#### В 201 вакансиях на позицию \"Data Scientist\" работодатели указывают в качестве ключевого навыка владение SQL. \n",
        "#### Однако чаще работодатели указывают в качестве ключевого навыка владение Python. Но почему?\n",
        "#### Умение владеть обоими этими языками программирования одинаково важно. Однако чаще работодатели указывают именно Python, скорее всего потому, что на Python проводится основная часть работы над проектом в профессии \"Data Scientist\", а также освоить базовые понятия SQL легче и быстрее., чем с нуля освоить Python\n",
        "#### Но чаще всего работадатели указывают владение обоими этими языками программирования в своих вакансия, на позицию \"Data Scientest\""
      ]
    },
    {
      "cell_type": "markdown",
      "id": "ec3c8db7-fa21-4a41-a994-1af63742a642",
      "metadata": {
        "id": "ec3c8db7-fa21-4a41-a994-1af63742a642"
      },
      "source": [
        "5. Сколько ключевых навыков в среднем указывают в вакансиях для DS?\n",
        "Ответ округлите до двух знаков после точки-разделителя."
      ]
    },
    {
      "cell_type": "code",
      "execution_count": 50,
      "id": "949132bc-d5b6-4611-8218-0b9a504d74f4",
      "metadata": {
        "id": "949132bc-d5b6-4611-8218-0b9a504d74f4"
      },
      "outputs": [],
      "source": [
        "# текст запроса\n",
        "query_21 = f'''select round(avg(length(v.key_skills) - length(replace(v.key_skills,CHR(9),''))+1), 2)\n",
        "            from vacancies v\n",
        "            where (v.name ilike '%data scientist%' or v.name ilike '%data science%'\n",
        "            or v.name ilike '%исследователь данных%' or (v.name like '%ML%' and v.name not ilike '%HTML%')\n",
        "            or v.name ilike '%machine learning%' or v.name ilike '%машин%обучен%') and v.key_skills is not null\n",
        "            '''"
      ]
    },
    {
      "cell_type": "code",
      "execution_count": 51,
      "id": "a3V24Tvmviqk",
      "metadata": {
        "id": "a3V24Tvmviqk"
      },
      "outputs": [
        {
          "name": "stderr",
          "output_type": "stream",
          "text": [
            "C:\\Users\\79654\\AppData\\Local\\Temp\\ipykernel_21948\\1370682270.py:2: UserWarning: pandas only supports SQLAlchemy connectable (engine/connection) or database string URI or sqlite3 DBAPI2 connection. Other DBAPI2 objects are not tested. Please consider using SQLAlchemy.\n",
            "  result_21 = pd.read_sql_query(query_21, connection)\n"
          ]
        },
        {
          "data": {
            "text/html": [
              "<div>\n",
              "<style scoped>\n",
              "    .dataframe tbody tr th:only-of-type {\n",
              "        vertical-align: middle;\n",
              "    }\n",
              "\n",
              "    .dataframe tbody tr th {\n",
              "        vertical-align: top;\n",
              "    }\n",
              "\n",
              "    .dataframe thead th {\n",
              "        text-align: right;\n",
              "    }\n",
              "</style>\n",
              "<table border=\"1\" class=\"dataframe\">\n",
              "  <thead>\n",
              "    <tr style=\"text-align: right;\">\n",
              "      <th></th>\n",
              "      <th>round</th>\n",
              "    </tr>\n",
              "  </thead>\n",
              "  <tbody>\n",
              "    <tr>\n",
              "      <th>0</th>\n",
              "      <td>6.41</td>\n",
              "    </tr>\n",
              "  </tbody>\n",
              "</table>\n",
              "</div>"
            ],
            "text/plain": [
              "   round\n",
              "0   6.41"
            ]
          },
          "metadata": {},
          "output_type": "display_data"
        }
      ],
      "source": [
        "# результат запроса\n",
        "result_21 = pd.read_sql_query(query_21, connection)\n",
        "display(result_21)"
      ]
    },
    {
      "cell_type": "markdown",
      "id": "76b3accd",
      "metadata": {},
      "source": [
        "#### В большинстве случаев работодатели, в среднем, указывают 6 ключевых навыков для той или иной вакансии. \n",
        "#### Почему именно шесть? Скорее всего, именно это число навыков в среднем хватает работодателю. Туда часто входят: SQL, Python, машинное обучение, математика, статистика и многое другое."
      ]
    },
    {
      "cell_type": "markdown",
      "id": "1041c17a-ca8f-4543-a0ca-32778914fb00",
      "metadata": {
        "id": "1041c17a-ca8f-4543-a0ca-32778914fb00"
      },
      "source": [
        "6. Напишите запрос, позволяющий вычислить, какую зарплату для DS в **среднем** указывают для каждого типа требуемого опыта (уникальное значение из поля *experience*). \n",
        "\n",
        "При решении задачи примите во внимание следующее:\n",
        "1. Рассматриваем только вакансии, у которых заполнено хотя бы одно из двух полей с зарплатой.\n",
        "2. Если заполнены оба поля с зарплатой, то считаем зарплату по каждой вакансии как сумму двух полей, делённую на 2. Если заполнено только одно из полей, то его и считаем зарплатой по вакансии.\n",
        "3. Если в расчётах участвует null, в результате он тоже даст null (посмотрите, что возвращает запрос select 1 + null). Чтобы избежать этой ситуацию, мы воспользуемся функцией [coalesce](https://postgrespro.ru/docs/postgresql/9.5/functions-conditional#functions-coalesce-nvl-ifnull), которая заменит null на значение, которое мы передадим. Например, посмотрите, что возвращает запрос `select 1 + coalesce(null, 0)`\n",
        "\n",
        "Выясните, на какую зарплату в среднем может рассчитывать дата-сайентист с опытом работы от 3 до 6 лет. Результат округлите до целого числа. "
      ]
    },
    {
      "cell_type": "code",
      "execution_count": 52,
      "id": "6a743d39-5204-48d3-8271-b9f88e68d40e",
      "metadata": {
        "id": "6a743d39-5204-48d3-8271-b9f88e68d40e"
      },
      "outputs": [],
      "source": [
        "# текст запроса\n",
        "query_22 = f'''select distinct(v.experience) as exp,\n",
        "                            round(avg(coalesce((salary_to + salary_from) / 2, salary_to, salary_from)), 0)\n",
        "            from vacancies v\n",
        "            where (v.name ilike '%data scientist%' or v.name ilike '%data science%'\n",
        "            or v.name ilike '%исследователь данных%' or (v.name like '%ML%' and v.name not ilike '%HTML%')\n",
        "            or v.name ilike '%machine learning%' or v.name ilike '%машин%обучен%')\n",
        "            group by 1\n",
        "            '''"
      ]
    },
    {
      "cell_type": "code",
      "execution_count": 53,
      "id": "aRIJ0mZEwU1_",
      "metadata": {
        "id": "aRIJ0mZEwU1_"
      },
      "outputs": [
        {
          "name": "stderr",
          "output_type": "stream",
          "text": [
            "C:\\Users\\79654\\AppData\\Local\\Temp\\ipykernel_21948\\3694482925.py:2: UserWarning: pandas only supports SQLAlchemy connectable (engine/connection) or database string URI or sqlite3 DBAPI2 connection. Other DBAPI2 objects are not tested. Please consider using SQLAlchemy.\n",
            "  result_22 = pd.read_sql_query(query_22, connection)\n"
          ]
        },
        {
          "data": {
            "text/html": [
              "<div>\n",
              "<style scoped>\n",
              "    .dataframe tbody tr th:only-of-type {\n",
              "        vertical-align: middle;\n",
              "    }\n",
              "\n",
              "    .dataframe tbody tr th {\n",
              "        vertical-align: top;\n",
              "    }\n",
              "\n",
              "    .dataframe thead th {\n",
              "        text-align: right;\n",
              "    }\n",
              "</style>\n",
              "<table border=\"1\" class=\"dataframe\">\n",
              "  <thead>\n",
              "    <tr style=\"text-align: right;\">\n",
              "      <th></th>\n",
              "      <th>exp</th>\n",
              "      <th>round</th>\n",
              "    </tr>\n",
              "  </thead>\n",
              "  <tbody>\n",
              "    <tr>\n",
              "      <th>0</th>\n",
              "      <td>Более 6 лет</td>\n",
              "      <td>NaN</td>\n",
              "    </tr>\n",
              "    <tr>\n",
              "      <th>1</th>\n",
              "      <td>Нет опыта</td>\n",
              "      <td>74643.0</td>\n",
              "    </tr>\n",
              "    <tr>\n",
              "      <th>2</th>\n",
              "      <td>От 1 года до 3 лет</td>\n",
              "      <td>139675.0</td>\n",
              "    </tr>\n",
              "    <tr>\n",
              "      <th>3</th>\n",
              "      <td>От 3 до 6 лет</td>\n",
              "      <td>243115.0</td>\n",
              "    </tr>\n",
              "  </tbody>\n",
              "</table>\n",
              "</div>"
            ],
            "text/plain": [
              "                  exp     round\n",
              "0         Более 6 лет       NaN\n",
              "1           Нет опыта   74643.0\n",
              "2  От 1 года до 3 лет  139675.0\n",
              "3       От 3 до 6 лет  243115.0"
            ]
          },
          "metadata": {},
          "output_type": "display_data"
        }
      ],
      "source": [
        "# результат запроса\n",
        "result_22 = pd.read_sql_query(query_22, connection)\n",
        "\n",
        "display(result_22)"
      ]
    },
    {
      "cell_type": "markdown",
      "id": "6a7892b4-4113-4746-adce-18aa2844f18e",
      "metadata": {
        "id": "6a7892b4-4113-4746-adce-18aa2844f18e"
      },
      "source": [
        "***"
      ]
    },
    {
      "cell_type": "markdown",
      "id": "7c3bcd12",
      "metadata": {},
      "source": [
        "#### Средние заработные платы, для каждого опыта работы у нас такие (Нет опыта : 74,000 руб., От 1 года до 3 лет : 140,000 руб., От 3 до 6 лет : 245,000 руб.).\n",
        "#### Можно сопоставить это так (Джуниор (Нет опыта) : 74,000 руб., мидл (От 1 года до 3 лет) : 140,000 руб., сеньор (От 3 до 6 лет) : 245,000 руб.), это соответствует реалиям, так как столько в среднем зарабатывают дата саинтесты этих уровней."
      ]
    },
    {
      "cell_type": "markdown",
      "id": "78eef549",
      "metadata": {},
      "source": [
        "### Выводы по предметному анализу\n",
        "#### У нас 1771 вакансия на специалистов по данным, 480 вакансий на дата саинтеста, 251 вакансия на дата саинтеста джуниор уровня (если брать дата саинтестов без опыта работы и с опытом от 1 года до 3 лет) и 51 вакансия на дата саинтеста джуниор уровня (если брать дата саинтестов только без опыта работы).\n",
        "#### В среднем дата саинтесты джуниор уровня зарабатывают (74,000 руб.), мидл уровня (140,000) и сеньоры (250,000)."
      ]
    },
    {
      "cell_type": "markdown",
      "id": "c0ED6fh7wiBT",
      "metadata": {
        "id": "c0ED6fh7wiBT"
      },
      "source": [
        "# Общий вывод по проекту"
      ]
    },
    {
      "cell_type": "markdown",
      "id": "d6a8085c",
      "metadata": {},
      "source": [
        "### подведем итог исследования, обобщите выводы\n",
        "#### В процессе анализа всех данных я понял, что в нашем датасете очень много вакансий, регионов и множество работодателей, а также около 300 разных IT-сфер.\n",
        "#### Самой активной компанией является \"Яндекс\". У этой компании самое большое количество вакансий и регионов.\n",
        "#### Самой многочисленной сферой деятельности является \"Разработка программного обеспечения\".\n",
        "#### Также в наших данных собрано около 250 дата саинтестов разного уровня, от джуниор уровня до сеньора с опытом работы более 6 лет и заработной платой от 150000 рублей.\n",
        "### здесь можно (это будет плюсом) провести дополнительные исследования данных, сделать прогнозы, продумать варианты продолжения исследования\n",
        "#### В доп. исследованиях можно рассмотреть зависимость средней заработной платы от типа трудоустройства и типа графика, чтобы в будущем можно было предсказать среднею заработную плату в разных сочетаниях типа трудоустройства и типа графика."
      ]
    },
    {
      "cell_type": "code",
      "execution_count": 62,
      "id": "c3fbb2f3",
      "metadata": {},
      "outputs": [
        {
          "name": "stderr",
          "output_type": "stream",
          "text": [
            "C:\\Users\\79654\\AppData\\Local\\Temp\\ipykernel_21948\\2891048530.py:11: UserWarning:\n",
            "\n",
            "pandas only supports SQLAlchemy connectable (engine/connection) or database string URI or sqlite3 DBAPI2 connection. Other DBAPI2 objects are not tested. Please consider using SQLAlchemy.\n",
            "\n"
          ]
        },
        {
          "data": {
            "image/svg+xml": [
              "<svg class=\"main-svg\" xmlns=\"http://www.w3.org/2000/svg\" xmlns:xlink=\"http://www.w3.org/1999/xlink\" width=\"840\" height=\"960\" style=\"\" viewBox=\"0 0 700 800\"><rect x=\"0\" y=\"0\" width=\"700\" height=\"800\" style=\"fill: rgb(255, 255, 255); fill-opacity: 1;\"/><defs id=\"defs-699e2a\"><g class=\"clips\"/><g class=\"gradients\"/><g class=\"patterns\"/></defs><g class=\"bglayer\"/><g class=\"layer-below\"><g class=\"imagelayer\"/><g class=\"shapelayer\"/></g><g class=\"cartesianlayer\"/><g class=\"polarlayer\"/><g class=\"smithlayer\"/><g class=\"ternarylayer\"/><g class=\"geolayer\"/><g class=\"funnelarealayer\"/><g class=\"pielayer\"/><g class=\"iciclelayer\"/><g class=\"treemaplayer\"/><g class=\"sunburstlayer\"/><g class=\"glimages\"><image xmlns=\"http://www.w3.org/2000/svg\" xlink:href=\"data:image/png;base64,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\" x=\"80\" y=\"100\" width=\"305\" height=\"620\" preserveAspectRatio=\"none\"/></g><defs id=\"topdefs-699e2a\"><g class=\"clips\"/><clipPath id=\"legend699e2a\"><rect width=\"297\" height=\"371\" x=\"0\" y=\"0\"/></clipPath></defs><g class=\"layer-above\"><g class=\"imagelayer\"/><g class=\"shapelayer\"/></g><g class=\"infolayer\"><g class=\"legend\" pointer-events=\"all\" transform=\"translate(391.1,100)\"><rect class=\"bg\" shape-rendering=\"crispEdges\" width=\"297\" height=\"371\" x=\"0\" y=\"0\" style=\"stroke: rgb(68, 68, 68); stroke-opacity: 1; fill: rgb(255, 255, 255); fill-opacity: 1; stroke-width: 0px;\"/><g class=\"scrollbox\" transform=\"\" clip-path=\"url(#legend699e2a)\"><text class=\"legendtitletext\" text-anchor=\"start\" x=\"2\" y=\"18.2\" style=\"font-family: 'Open Sans', verdana, arial, sans-serif; font-size: 14px; fill: rgb(42, 63, 95); fill-opacity: 1; white-space: pre;\">employment, schedule</text><g class=\"groups\" transform=\"\"><g class=\"traces\" transform=\"translate(0,32.7)\" style=\"opacity: 1;\"><text class=\"legendtext\" text-anchor=\"start\" x=\"40\" y=\"4.680000000000001\" style=\"font-family: 'Open Sans', verdana, arial, sans-serif; font-size: 12px; fill: rgb(42, 63, 95); fill-opacity: 1; white-space: pre;\">Стажировка, Сменный график</text><g class=\"layers\" style=\"opacity: 1;\"><g class=\"legendfill\"/><g class=\"legendlines\"/><g class=\"legendsymbols\"><g class=\"legendpoints\"><path class=\"scatterpts\" transform=\"translate(20,0)\" d=\"M4,0A4,4 0 1,1 0,-4A4,4 0 0,1 4,0Z\" style=\"opacity: 1; stroke-width: 0px; fill: rgb(99, 110, 250); fill-opacity: 1;\"/></g></g></g><rect class=\"legendtoggle\" x=\"0\" y=\"-9.5\" width=\"291.765625\" height=\"19\" style=\"fill: rgb(0, 0, 0); fill-opacity: 0;\"/></g></g><g class=\"groups\" transform=\"\"><g class=\"traces\" transform=\"translate(0,51.7)\" style=\"opacity: 1;\"><text class=\"legendtext\" text-anchor=\"start\" x=\"40\" y=\"4.680000000000001\" style=\"font-family: 'Open Sans', verdana, arial, sans-serif; font-size: 12px; fill: rgb(42, 63, 95); fill-opacity: 1; white-space: pre;\">Стажировка, Полный день</text><g class=\"layers\" style=\"opacity: 1;\"><g class=\"legendfill\"/><g class=\"legendlines\"/><g class=\"legendsymbols\"><g class=\"legendpoints\"><path class=\"scatterpts\" transform=\"translate(20,0)\" d=\"M5.2,0L0,5.2L-5.2,0L0,-5.2Z\" style=\"opacity: 1; stroke-width: 0px; fill: rgb(99, 110, 250); fill-opacity: 1;\"/></g></g></g><rect class=\"legendtoggle\" x=\"0\" y=\"-9.5\" width=\"291.765625\" height=\"19\" style=\"fill: rgb(0, 0, 0); fill-opacity: 0;\"/></g></g><g class=\"groups\" transform=\"\"><g class=\"traces\" transform=\"translate(0,70.7)\" style=\"opacity: 1;\"><text class=\"legendtext\" text-anchor=\"start\" x=\"40\" y=\"4.680000000000001\" style=\"font-family: 'Open Sans', verdana, arial, sans-serif; font-size: 12px; fill: rgb(42, 63, 95); fill-opacity: 1; white-space: pre;\">Стажировка, Удаленная работа</text><g class=\"layers\" style=\"opacity: 1;\"><g class=\"legendfill\"/><g class=\"legendlines\"/><g class=\"legendsymbols\"><g class=\"legendpoints\"><path class=\"scatterpts\" transform=\"translate(20,0)\" d=\"M4,4H-4V-4H4Z\" style=\"opacity: 1; stroke-width: 0px; fill: rgb(99, 110, 250); fill-opacity: 1;\"/></g></g></g><rect class=\"legendtoggle\" x=\"0\" y=\"-9.5\" width=\"291.765625\" height=\"19\" style=\"fill: rgb(0, 0, 0); fill-opacity: 0;\"/></g></g><g class=\"groups\" transform=\"\"><g class=\"traces\" transform=\"translate(0,89.7)\" style=\"opacity: 1;\"><text class=\"legendtext\" text-anchor=\"start\" x=\"40\" y=\"4.680000000000001\" style=\"font-family: 'Open Sans', verdana, arial, sans-serif; font-size: 12px; fill: rgb(42, 63, 95); fill-opacity: 1; white-space: pre;\">Стажировка, Гибкий график</text><g class=\"layers\" style=\"opacity: 1;\"><g class=\"legendfill\"/><g class=\"legendlines\"/><g class=\"legendsymbols\"><g class=\"legendpoints\"><path class=\"scatterpts\" transform=\"translate(20,0)\" d=\"M4.8,1.6H1.6V4.8H-1.6V1.6H-4.8V-1.6H-1.6V-4.8H1.6V-1.6H4.8Z\" style=\"opacity: 1; stroke-width: 0px; fill: rgb(99, 110, 250); fill-opacity: 1;\"/></g></g></g><rect class=\"legendtoggle\" x=\"0\" y=\"-9.5\" width=\"291.765625\" height=\"19\" style=\"fill: rgb(0, 0, 0); fill-opacity: 0;\"/></g></g><g class=\"groups\" transform=\"\"><g class=\"traces\" transform=\"translate(0,108.7)\" style=\"opacity: 1;\"><text class=\"legendtext\" text-anchor=\"start\" x=\"40\" y=\"4.680000000000001\" style=\"font-family: 'Open Sans', verdana, arial, sans-serif; font-size: 12px; fill: rgb(42, 63, 95); fill-opacity: 1; white-space: pre;\">Проектная работа, Сменный график</text><g class=\"layers\" style=\"opacity: 1;\"><g class=\"legendfill\"/><g class=\"legendlines\"/><g class=\"legendsymbols\"><g class=\"legendpoints\"><path class=\"scatterpts\" transform=\"translate(20,0)\" d=\"M4,0A4,4 0 1,1 0,-4A4,4 0 0,1 4,0Z\" style=\"opacity: 1; stroke-width: 0px; fill: rgb(239, 85, 59); fill-opacity: 1;\"/></g></g></g><rect class=\"legendtoggle\" x=\"0\" y=\"-9.5\" width=\"291.765625\" height=\"19\" style=\"fill: rgb(0, 0, 0); fill-opacity: 0;\"/></g></g><g class=\"groups\" transform=\"\"><g class=\"traces\" transform=\"translate(0,127.7)\" style=\"opacity: 1;\"><text class=\"legendtext\" text-anchor=\"start\" x=\"40\" y=\"4.680000000000001\" style=\"font-family: 'Open Sans', verdana, arial, sans-serif; font-size: 12px; fill: rgb(42, 63, 95); fill-opacity: 1; white-space: pre;\">Проектная работа, Полный день</text><g class=\"layers\" style=\"opacity: 1;\"><g class=\"legendfill\"/><g class=\"legendlines\"/><g class=\"legendsymbols\"><g class=\"legendpoints\"><path class=\"scatterpts\" transform=\"translate(20,0)\" d=\"M5.2,0L0,5.2L-5.2,0L0,-5.2Z\" style=\"opacity: 1; stroke-width: 0px; fill: rgb(239, 85, 59); fill-opacity: 1;\"/></g></g></g><rect class=\"legendtoggle\" x=\"0\" y=\"-9.5\" width=\"291.765625\" height=\"19\" style=\"fill: rgb(0, 0, 0); fill-opacity: 0;\"/></g></g><g class=\"groups\" transform=\"\"><g class=\"traces\" transform=\"translate(0,146.7)\" style=\"opacity: 1;\"><text class=\"legendtext\" text-anchor=\"start\" x=\"40\" y=\"4.680000000000001\" style=\"font-family: 'Open Sans', verdana, arial, sans-serif; font-size: 12px; fill: rgb(42, 63, 95); fill-opacity: 1; white-space: pre;\">Проектная работа, Удаленная работа</text><g class=\"layers\" style=\"opacity: 1;\"><g class=\"legendfill\"/><g class=\"legendlines\"/><g class=\"legendsymbols\"><g class=\"legendpoints\"><path class=\"scatterpts\" transform=\"translate(20,0)\" d=\"M4,4H-4V-4H4Z\" style=\"opacity: 1; stroke-width: 0px; fill: rgb(239, 85, 59); fill-opacity: 1;\"/></g></g></g><rect class=\"legendtoggle\" x=\"0\" y=\"-9.5\" width=\"291.765625\" height=\"19\" style=\"fill: rgb(0, 0, 0); fill-opacity: 0;\"/></g></g><g class=\"groups\" transform=\"\"><g class=\"traces\" transform=\"translate(0,165.7)\" style=\"opacity: 1;\"><text class=\"legendtext\" text-anchor=\"start\" x=\"40\" y=\"4.680000000000001\" style=\"font-family: 'Open Sans', verdana, arial, sans-serif; font-size: 12px; fill: rgb(42, 63, 95); fill-opacity: 1; white-space: pre;\">Проектная работа, Вахтовый метод</text><g class=\"layers\" style=\"opacity: 1;\"><g class=\"legendfill\"/><g class=\"legendlines\"/><g class=\"legendsymbols\"><g class=\"legendpoints\"><path class=\"scatterpts\" transform=\"translate(20,0)\" d=\"M0,2.26l2.26,2.26l2.26,-2.26l-2.26,-2.26l2.26,-2.26l-2.26,-2.26l-2.26,2.26l-2.26,-2.26l-2.26,2.26l2.26,2.26l-2.26,2.26l2.26,2.26Z\" style=\"opacity: 1; stroke-width: 0px; fill: rgb(239, 85, 59); fill-opacity: 1;\"/></g></g></g><rect class=\"legendtoggle\" x=\"0\" y=\"-9.5\" width=\"291.765625\" height=\"19\" style=\"fill: rgb(0, 0, 0); fill-opacity: 0;\"/></g></g><g class=\"groups\" transform=\"\"><g class=\"traces\" transform=\"translate(0,184.7)\" style=\"opacity: 1;\"><text class=\"legendtext\" text-anchor=\"start\" x=\"40\" y=\"4.680000000000001\" style=\"font-family: 'Open Sans', verdana, arial, sans-serif; font-size: 12px; fill: rgb(42, 63, 95); fill-opacity: 1; white-space: pre;\">Проектная работа, Гибкий график</text><g class=\"layers\" style=\"opacity: 1;\"><g class=\"legendfill\"/><g class=\"legendlines\"/><g class=\"legendsymbols\"><g class=\"legendpoints\"><path class=\"scatterpts\" transform=\"translate(20,0)\" d=\"M4.8,1.6H1.6V4.8H-1.6V1.6H-4.8V-1.6H-1.6V-4.8H1.6V-1.6H4.8Z\" style=\"opacity: 1; stroke-width: 0px; fill: rgb(239, 85, 59); fill-opacity: 1;\"/></g></g></g><rect class=\"legendtoggle\" x=\"0\" y=\"-9.5\" width=\"291.765625\" height=\"19\" style=\"fill: rgb(0, 0, 0); fill-opacity: 0;\"/></g></g><g class=\"groups\" transform=\"\"><g class=\"traces\" transform=\"translate(0,203.7)\" style=\"opacity: 1;\"><text class=\"legendtext\" text-anchor=\"start\" x=\"40\" y=\"4.680000000000001\" style=\"font-family: 'Open Sans', verdana, arial, sans-serif; font-size: 12px; fill: rgb(42, 63, 95); fill-opacity: 1; white-space: pre;\">Частичная занятость, Сменный график</text><g class=\"layers\" style=\"opacity: 1;\"><g class=\"legendfill\"/><g class=\"legendlines\"/><g class=\"legendsymbols\"><g class=\"legendpoints\"><path class=\"scatterpts\" transform=\"translate(20,0)\" d=\"M4,0A4,4 0 1,1 0,-4A4,4 0 0,1 4,0Z\" style=\"opacity: 1; stroke-width: 0px; fill: rgb(0, 204, 150); fill-opacity: 1;\"/></g></g></g><rect class=\"legendtoggle\" x=\"0\" y=\"-9.5\" width=\"291.765625\" height=\"19\" style=\"fill: rgb(0, 0, 0); fill-opacity: 0;\"/></g></g><g class=\"groups\" transform=\"\"><g class=\"traces\" transform=\"translate(0,222.7)\" style=\"opacity: 1;\"><text class=\"legendtext\" text-anchor=\"start\" x=\"40\" y=\"4.680000000000001\" style=\"font-family: 'Open Sans', verdana, arial, sans-serif; font-size: 12px; fill: rgb(42, 63, 95); fill-opacity: 1; white-space: pre;\">Частичная занятость, Полный день</text><g class=\"layers\" style=\"opacity: 1;\"><g class=\"legendfill\"/><g class=\"legendlines\"/><g class=\"legendsymbols\"><g class=\"legendpoints\"><path class=\"scatterpts\" transform=\"translate(20,0)\" d=\"M5.2,0L0,5.2L-5.2,0L0,-5.2Z\" style=\"opacity: 1; stroke-width: 0px; fill: rgb(0, 204, 150); fill-opacity: 1;\"/></g></g></g><rect class=\"legendtoggle\" x=\"0\" y=\"-9.5\" width=\"291.765625\" height=\"19\" style=\"fill: rgb(0, 0, 0); fill-opacity: 0;\"/></g></g><g class=\"groups\" transform=\"\"><g class=\"traces\" transform=\"translate(0,241.7)\" style=\"opacity: 1;\"><text class=\"legendtext\" text-anchor=\"start\" x=\"40\" y=\"4.680000000000001\" style=\"font-family: 'Open Sans', verdana, arial, sans-serif; font-size: 12px; fill: rgb(42, 63, 95); fill-opacity: 1; white-space: pre;\">Частичная занятость, Удаленная работа</text><g class=\"layers\" style=\"opacity: 1;\"><g class=\"legendfill\"/><g class=\"legendlines\"/><g class=\"legendsymbols\"><g class=\"legendpoints\"><path class=\"scatterpts\" transform=\"translate(20,0)\" d=\"M4,4H-4V-4H4Z\" style=\"opacity: 1; stroke-width: 0px; fill: rgb(0, 204, 150); fill-opacity: 1;\"/></g></g></g><rect class=\"legendtoggle\" x=\"0\" y=\"-9.5\" width=\"291.765625\" height=\"19\" style=\"fill: rgb(0, 0, 0); fill-opacity: 0;\"/></g></g><g class=\"groups\" transform=\"\"><g class=\"traces\" transform=\"translate(0,260.7)\" style=\"opacity: 1;\"><text class=\"legendtext\" text-anchor=\"start\" x=\"40\" y=\"4.680000000000001\" style=\"font-family: 'Open Sans', verdana, arial, sans-serif; font-size: 12px; fill: rgb(42, 63, 95); fill-opacity: 1; white-space: pre;\">Частичная занятость, Гибкий график</text><g class=\"layers\" style=\"opacity: 1;\"><g class=\"legendfill\"/><g class=\"legendlines\"/><g class=\"legendsymbols\"><g class=\"legendpoints\"><path class=\"scatterpts\" transform=\"translate(20,0)\" d=\"M4.8,1.6H1.6V4.8H-1.6V1.6H-4.8V-1.6H-1.6V-4.8H1.6V-1.6H4.8Z\" style=\"opacity: 1; stroke-width: 0px; fill: rgb(0, 204, 150); fill-opacity: 1;\"/></g></g></g><rect class=\"legendtoggle\" x=\"0\" y=\"-9.5\" width=\"291.765625\" height=\"19\" style=\"fill: rgb(0, 0, 0); fill-opacity: 0;\"/></g></g><g class=\"groups\" transform=\"\"><g class=\"traces\" transform=\"translate(0,279.7)\" style=\"opacity: 1;\"><text class=\"legendtext\" text-anchor=\"start\" x=\"40\" y=\"4.680000000000001\" style=\"font-family: 'Open Sans', verdana, arial, sans-serif; font-size: 12px; fill: rgb(42, 63, 95); fill-opacity: 1; white-space: pre;\">Полная занятость, Сменный график</text><g class=\"layers\" style=\"opacity: 1;\"><g class=\"legendfill\"/><g class=\"legendlines\"/><g class=\"legendsymbols\"><g class=\"legendpoints\"><path class=\"scatterpts\" transform=\"translate(20,0)\" d=\"M4,0A4,4 0 1,1 0,-4A4,4 0 0,1 4,0Z\" style=\"opacity: 1; stroke-width: 0px; fill: rgb(171, 99, 250); fill-opacity: 1;\"/></g></g></g><rect class=\"legendtoggle\" x=\"0\" y=\"-9.5\" width=\"291.765625\" height=\"19\" style=\"fill: rgb(0, 0, 0); fill-opacity: 0;\"/></g></g><g class=\"groups\" transform=\"\"><g class=\"traces\" transform=\"translate(0,298.7)\" style=\"opacity: 1;\"><text class=\"legendtext\" text-anchor=\"start\" x=\"40\" y=\"4.680000000000001\" style=\"font-family: 'Open Sans', verdana, arial, sans-serif; font-size: 12px; fill: rgb(42, 63, 95); fill-opacity: 1; white-space: pre;\">Полная занятость, Полный день</text><g class=\"layers\" style=\"opacity: 1;\"><g class=\"legendfill\"/><g class=\"legendlines\"/><g class=\"legendsymbols\"><g class=\"legendpoints\"><path class=\"scatterpts\" transform=\"translate(20,0)\" d=\"M5.2,0L0,5.2L-5.2,0L0,-5.2Z\" style=\"opacity: 1; stroke-width: 0px; fill: rgb(171, 99, 250); fill-opacity: 1;\"/></g></g></g><rect class=\"legendtoggle\" x=\"0\" y=\"-9.5\" width=\"291.765625\" height=\"19\" style=\"fill: rgb(0, 0, 0); fill-opacity: 0;\"/></g></g><g class=\"groups\" transform=\"\"><g class=\"traces\" transform=\"translate(0,317.7)\" style=\"opacity: 1;\"><text class=\"legendtext\" text-anchor=\"start\" x=\"40\" y=\"4.680000000000001\" style=\"font-family: 'Open Sans', verdana, arial, sans-serif; font-size: 12px; fill: rgb(42, 63, 95); fill-opacity: 1; white-space: pre;\">Полная занятость, Удаленная работа</text><g class=\"layers\" style=\"opacity: 1;\"><g class=\"legendfill\"/><g class=\"legendlines\"/><g class=\"legendsymbols\"><g class=\"legendpoints\"><path class=\"scatterpts\" transform=\"translate(20,0)\" d=\"M4,4H-4V-4H4Z\" style=\"opacity: 1; stroke-width: 0px; fill: rgb(171, 99, 250); fill-opacity: 1;\"/></g></g></g><rect class=\"legendtoggle\" x=\"0\" y=\"-9.5\" width=\"291.765625\" height=\"19\" style=\"fill: rgb(0, 0, 0); fill-opacity: 0;\"/></g></g><g class=\"groups\" transform=\"\"><g class=\"traces\" transform=\"translate(0,336.7)\" style=\"opacity: 1;\"><text class=\"legendtext\" text-anchor=\"start\" x=\"40\" y=\"4.680000000000001\" style=\"font-family: 'Open Sans', verdana, arial, sans-serif; font-size: 12px; fill: rgb(42, 63, 95); fill-opacity: 1; white-space: pre;\">Полная занятость, Вахтовый метод</text><g class=\"layers\" style=\"opacity: 1;\"><g class=\"legendfill\"/><g class=\"legendlines\"/><g class=\"legendsymbols\"><g class=\"legendpoints\"><path class=\"scatterpts\" transform=\"translate(20,0)\" d=\"M0,2.26l2.26,2.26l2.26,-2.26l-2.26,-2.26l2.26,-2.26l-2.26,-2.26l-2.26,2.26l-2.26,-2.26l-2.26,2.26l2.26,2.26l-2.26,2.26l2.26,2.26Z\" style=\"opacity: 1; stroke-width: 0px; fill: rgb(171, 99, 250); fill-opacity: 1;\"/></g></g></g><rect class=\"legendtoggle\" x=\"0\" y=\"-9.5\" width=\"291.765625\" height=\"19\" style=\"fill: rgb(0, 0, 0); fill-opacity: 0;\"/></g></g><g class=\"groups\" transform=\"\"><g class=\"traces\" transform=\"translate(0,355.7)\" style=\"opacity: 1;\"><text class=\"legendtext\" text-anchor=\"start\" x=\"40\" y=\"4.680000000000001\" style=\"font-family: 'Open Sans', verdana, arial, sans-serif; font-size: 12px; fill: rgb(42, 63, 95); fill-opacity: 1; white-space: pre;\">Полная занятость, Гибкий график</text><g class=\"layers\" style=\"opacity: 1;\"><g class=\"legendfill\"/><g class=\"legendlines\"/><g class=\"legendsymbols\"><g class=\"legendpoints\"><path class=\"scatterpts\" transform=\"translate(20,0)\" d=\"M4.8,1.6H1.6V4.8H-1.6V1.6H-4.8V-1.6H-1.6V-4.8H1.6V-1.6H4.8Z\" style=\"opacity: 1; stroke-width: 0px; fill: rgb(171, 99, 250); fill-opacity: 1;\"/></g></g></g><rect class=\"legendtoggle\" x=\"0\" y=\"-9.5\" width=\"291.765625\" height=\"19\" style=\"fill: rgb(0, 0, 0); fill-opacity: 0;\"/></g></g></g><rect class=\"scrollbar\" rx=\"20\" ry=\"3\" width=\"0\" height=\"0\" x=\"0\" y=\"0\" style=\"fill: rgb(128, 139, 164); fill-opacity: 1;\"/></g><g class=\"g-gtitle\"><text class=\"gtitle\" x=\"35\" y=\"50\" text-anchor=\"start\" dy=\"0em\" style=\"font-family: 'Open Sans', verdana, arial, sans-serif; font-size: 17px; fill: rgb(42, 63, 95); opacity: 1; font-weight: normal; white-space: pre;\">Зависимость средней заработной платы от типа трудоустройства и типа рабочего графика</text></g></g></svg>"
            ]
          },
          "metadata": {},
          "output_type": "display_data"
        }
      ],
      "source": [
        "# доп. исследование \"Зависимость средней заработной платы от типа трудоустройства и типа рабочего графика\"\n",
        "\n",
        "import plotly.io as pio\n",
        "\n",
        "query_1_add = f'''select v.schedule as schedule,\n",
        "                        v.employment as employment,\n",
        "                        round(avg(coalesce((salary_to + salary_from) / 2, salary_to, salary_from)), 0) as mean\n",
        "            from vacancies v\n",
        "            group by 1, 2\n",
        "            '''\n",
        "result_1_add = pd.read_sql_query(query_1_add, connection)\n",
        "scatter_3d = px.scatter_3d(data_frame=result_1_add, x='schedule', y='employment', z='mean', symbol='schedule', color='employment', height=800, title='Зависимость средней заработной платы от типа трудоустройства и типа рабочего графика')\n",
        "scatter_3d.show()\n",
        "pio.write_html(scatter_3d, file='figure.html', auto_open=True)\n",
        "pio.write_html(scatter_3d, file='figure_1.png', auto_open=True)"
      ]
    },
    {
      "cell_type": "markdown",
      "id": "5fdb3f65",
      "metadata": {},
      "source": [
        "{% include figure.png %}"
      ]
    },
    {
      "cell_type": "markdown",
      "id": "a8ce9d60",
      "metadata": {},
      "source": [
        "#### На этом графике мы можем видеть, что самым высокооплачиваемым сочетанием типа графика и типа трудоустройства является «Проектная работа: Гибкий график».\n",
        "\n",
        "#### Почему именно такое сочетание? Скорее всего, при «Гибком графике» работы специалист может сам выбирать время начала и окончания работы. Тем самым он может выбрать то время, когда он наиболее эффективен и подготовлен к работе. Для работодателя это значит, что соискатель всегда готов к работе.Теперь рассмотрим тип трудоустройства \"Проектная работа\", при этом типе платят больше, так как специалист работающий по такому типу работы, должен работать с другими участниками проекта и согласовывать с ними много моментов и планов, а также если это крупный проект, то значит он важен для компании.\n",
        "#### Также из графика видно, что самым малооплачиваемым сочетанием типа графика и типа трудоустройства является (Частичная занятость : Удаленная работа).\n",
        "#### Но почему именно это сочетание самое малооплачиваемое? За тип трудоустройства - частичная занятость, в целом платят достаточно мало (не больше 50,000 руб.). Дело в том, что для работодателя это может означать, что специалист не полностью вовлечен в работу, так как работает не полный день и может иметь даже вторую работу. Далее, тип графика - удаленная работа, для соискателя это достаточно удобно, но для работадателя это может означать, что он не может в полной мере контролировать своего сотрудника, однако за удаленную работу платят по разному, в зависимости от типа трудоустройства.\n",
        "#### Из этого графика мы узнали, что самым высокооплачиваемым сочетанием типа графика и типа трудоустройства является «Проектная работа: Гибкий график», а самым малооплачиваемым является сочетание «Частичная занятость : Удаленная работа»."
      ]
    }
  ],
  "metadata": {
    "colab": {
      "collapsed_sections": [
        "8d62a9f3-f64e-4fe7-bdac-c4dffa16155e"
      ],
      "provenance": []
    },
    "kernelspec": {
      "display_name": "Python 3 (ipykernel)",
      "language": "python",
      "name": "python3"
    },
    "language_info": {
      "codemirror_mode": {
        "name": "ipython",
        "version": 3
      },
      "file_extension": ".py",
      "mimetype": "text/x-python",
      "name": "python",
      "nbconvert_exporter": "python",
      "pygments_lexer": "ipython3",
      "version": "3.10.11"
    }
  },
  "nbformat": 4,
  "nbformat_minor": 5
}
